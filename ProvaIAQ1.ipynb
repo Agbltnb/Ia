{
  "nbformat": 4,
  "nbformat_minor": 0,
  "metadata": {
    "colab": {
      "name": "ProvaIAQ1.ipynb",
      "provenance": [],
      "toc_visible": true,
      "authorship_tag": "ABX9TyN+QXaMBkjWQFy+9dx5k7vW",
      "include_colab_link": true
    },
    "kernelspec": {
      "name": "python3",
      "display_name": "Python 3"
    }
  },
  "cells": [
    {
      "cell_type": "markdown",
      "metadata": {
        "id": "view-in-github",
        "colab_type": "text"
      },
      "source": [
        "<a href=\"https://colab.research.google.com/github/Agbltnb/Ia/blob/main/ProvaIAQ1.ipynb\" target=\"_parent\"><img src=\"https://colab.research.google.com/assets/colab-badge.svg\" alt=\"Open In Colab\"/></a>"
      ]
    },
    {
      "cell_type": "markdown",
      "metadata": {
        "id": "WJEf0G7FsXjh"
      },
      "source": [
        "# Prova 2 Questão 1\n",
        "\n",
        "**Enunciado da questão:**\n",
        "\n",
        "Acessar a base de dados HCV(https://archive.ics.uci.edu/ml/datasets/HCV+data#) e desenvolver dois algoritmos supervisionados, podendo ser Redes Neurais Artificiais, Árvore de Decisão ou outros de sua escolha, para classificação entre Doador ou Não Doador, que são positivos para Hepatite C, Fibrose ou Cirrose. Ambos modelos devem ser analisados pelas métricas: Acurácia, Especificidade, Sensibilidade e Matriz de Confusão e os resultados devem ser discutidos. Na base consta instâncias rotuladas como Possíveis Doadores (0s=suspect Blood Donor), que devem ser classificadas separadamente após a construção dos modelos, compare os resultados obtidos em cada método utilizado."
      ]
    },
    {
      "cell_type": "markdown",
      "metadata": {
        "id": "s1RwtoBnsspq"
      },
      "source": [
        "Importando as biblitecas necessárias para a solução desta questão."
      ]
    },
    {
      "cell_type": "code",
      "metadata": {
        "id": "z8j5BNtXvxD0"
      },
      "source": [
        "import numpy as np\n",
        "import pandas as pd\n",
        "import matplotlib.pyplot as plt\n",
        "from sklearn.model_selection import train_test_split\n",
        "from sklearn.ensemble import RandomForestClassifier\n",
        "from sklearn import preprocessing\n",
        "from sklearn import metrics\n",
        "from imblearn.over_sampling import SMOTE\n",
        "from sklearn.compose import make_column_transformer\n",
        "from sklearn.preprocessing import StandardScaler\n"
      ],
      "execution_count": 168,
      "outputs": []
    },
    {
      "cell_type": "markdown",
      "metadata": {
        "id": "VqGc71v8szWG"
      },
      "source": [
        "**Carregando o dataset**"
      ]
    },
    {
      "cell_type": "code",
      "metadata": {
        "colab": {
          "base_uri": "https://localhost:8080/",
          "height": 184
        },
        "id": "ma3oPKLFwAE6",
        "outputId": "a8ad679f-f4be-475b-b7b4-d944cd36ceeb"
      },
      "source": [
        "df = pd.read_csv('hcvdat0.csv')\n",
        "\n",
        "print(df.shape)\n",
        "df.head(4)"
      ],
      "execution_count": 169,
      "outputs": [
        {
          "output_type": "stream",
          "text": [
            "(615, 14)\n"
          ],
          "name": "stdout"
        },
        {
          "output_type": "execute_result",
          "data": {
            "text/html": [
              "<div>\n",
              "<style scoped>\n",
              "    .dataframe tbody tr th:only-of-type {\n",
              "        vertical-align: middle;\n",
              "    }\n",
              "\n",
              "    .dataframe tbody tr th {\n",
              "        vertical-align: top;\n",
              "    }\n",
              "\n",
              "    .dataframe thead th {\n",
              "        text-align: right;\n",
              "    }\n",
              "</style>\n",
              "<table border=\"1\" class=\"dataframe\">\n",
              "  <thead>\n",
              "    <tr style=\"text-align: right;\">\n",
              "      <th></th>\n",
              "      <th>Unnamed: 0</th>\n",
              "      <th>Category</th>\n",
              "      <th>Age</th>\n",
              "      <th>Sex</th>\n",
              "      <th>ALB</th>\n",
              "      <th>ALP</th>\n",
              "      <th>ALT</th>\n",
              "      <th>AST</th>\n",
              "      <th>BIL</th>\n",
              "      <th>CHE</th>\n",
              "      <th>CHOL</th>\n",
              "      <th>CREA</th>\n",
              "      <th>GGT</th>\n",
              "      <th>PROT</th>\n",
              "    </tr>\n",
              "  </thead>\n",
              "  <tbody>\n",
              "    <tr>\n",
              "      <th>0</th>\n",
              "      <td>1</td>\n",
              "      <td>0=Blood Donor</td>\n",
              "      <td>32</td>\n",
              "      <td>m</td>\n",
              "      <td>38.5</td>\n",
              "      <td>52.5</td>\n",
              "      <td>7.7</td>\n",
              "      <td>22.1</td>\n",
              "      <td>7.5</td>\n",
              "      <td>6.93</td>\n",
              "      <td>3.23</td>\n",
              "      <td>106.0</td>\n",
              "      <td>12.1</td>\n",
              "      <td>69.0</td>\n",
              "    </tr>\n",
              "    <tr>\n",
              "      <th>1</th>\n",
              "      <td>2</td>\n",
              "      <td>0=Blood Donor</td>\n",
              "      <td>32</td>\n",
              "      <td>m</td>\n",
              "      <td>38.5</td>\n",
              "      <td>70.3</td>\n",
              "      <td>18.0</td>\n",
              "      <td>24.7</td>\n",
              "      <td>3.9</td>\n",
              "      <td>11.17</td>\n",
              "      <td>4.80</td>\n",
              "      <td>74.0</td>\n",
              "      <td>15.6</td>\n",
              "      <td>76.5</td>\n",
              "    </tr>\n",
              "    <tr>\n",
              "      <th>2</th>\n",
              "      <td>3</td>\n",
              "      <td>0=Blood Donor</td>\n",
              "      <td>32</td>\n",
              "      <td>m</td>\n",
              "      <td>46.9</td>\n",
              "      <td>74.7</td>\n",
              "      <td>36.2</td>\n",
              "      <td>52.6</td>\n",
              "      <td>6.1</td>\n",
              "      <td>8.84</td>\n",
              "      <td>5.20</td>\n",
              "      <td>86.0</td>\n",
              "      <td>33.2</td>\n",
              "      <td>79.3</td>\n",
              "    </tr>\n",
              "    <tr>\n",
              "      <th>3</th>\n",
              "      <td>4</td>\n",
              "      <td>0=Blood Donor</td>\n",
              "      <td>32</td>\n",
              "      <td>m</td>\n",
              "      <td>43.2</td>\n",
              "      <td>52.0</td>\n",
              "      <td>30.6</td>\n",
              "      <td>22.6</td>\n",
              "      <td>18.9</td>\n",
              "      <td>7.33</td>\n",
              "      <td>4.74</td>\n",
              "      <td>80.0</td>\n",
              "      <td>33.8</td>\n",
              "      <td>75.7</td>\n",
              "    </tr>\n",
              "  </tbody>\n",
              "</table>\n",
              "</div>"
            ],
            "text/plain": [
              "   Unnamed: 0       Category  Age Sex   ALB  ...    CHE  CHOL   CREA   GGT  PROT\n",
              "0           1  0=Blood Donor   32   m  38.5  ...   6.93  3.23  106.0  12.1  69.0\n",
              "1           2  0=Blood Donor   32   m  38.5  ...  11.17  4.80   74.0  15.6  76.5\n",
              "2           3  0=Blood Donor   32   m  46.9  ...   8.84  5.20   86.0  33.2  79.3\n",
              "3           4  0=Blood Donor   32   m  43.2  ...   7.33  4.74   80.0  33.8  75.7\n",
              "\n",
              "[4 rows x 14 columns]"
            ]
          },
          "metadata": {
            "tags": []
          },
          "execution_count": 169
        }
      ]
    },
    {
      "cell_type": "markdown",
      "metadata": {
        "id": "rw07aV-LZgKL"
      },
      "source": [
        "**Preprocessar os dados**\n",
        "Será necessário remover a primeira coluna."
      ]
    },
    {
      "cell_type": "code",
      "metadata": {
        "id": "4XYTilgtwdR3"
      },
      "source": [
        "df.drop(columns='Unnamed: 0', inplace=True)"
      ],
      "execution_count": 170,
      "outputs": []
    },
    {
      "cell_type": "markdown",
      "metadata": {
        "id": "t5epXsro9m80"
      },
      "source": [
        "Verificação se existe valores faltantes:"
      ]
    },
    {
      "cell_type": "code",
      "metadata": {
        "colab": {
          "base_uri": "https://localhost:8080/"
        },
        "id": "to2Nbuzkwvel",
        "outputId": "5b38fb7c-ec44-4119-80d3-3d05f072c55b"
      },
      "source": [
        "print('Valores faltantes:', df.isnull().sum()) #quantidade de valores faltantes para todos os atributos"
      ],
      "execution_count": 171,
      "outputs": [
        {
          "output_type": "stream",
          "text": [
            "Valores faltantes: Category     0\n",
            "Age          0\n",
            "Sex          0\n",
            "ALB          1\n",
            "ALP         18\n",
            "ALT          1\n",
            "AST          0\n",
            "BIL          0\n",
            "CHE          0\n",
            "CHOL        10\n",
            "CREA         0\n",
            "GGT          0\n",
            "PROT         1\n",
            "dtype: int64\n"
          ],
          "name": "stdout"
        }
      ]
    },
    {
      "cell_type": "markdown",
      "metadata": {
        "id": "SAIQuvdFw1qP"
      },
      "source": [
        "Como anteriormente podemos perceber que existe valores faltantes, devemos retirar eles."
      ]
    },
    {
      "cell_type": "code",
      "metadata": {
        "id": "rlJu_1Pnw0rw"
      },
      "source": [
        "df = df.dropna()"
      ],
      "execution_count": 172,
      "outputs": []
    },
    {
      "cell_type": "code",
      "metadata": {
        "colab": {
          "base_uri": "https://localhost:8080/"
        },
        "id": "UVctHZhRxHnN",
        "outputId": "dce755df-992a-4ddb-8d73-8539f3ed3dc0"
      },
      "source": [
        "#vou verificar novamente se existe dados faltantes\n",
        "#print('Valores faltantes:', df.isnull().sum()) #quantidade de valores faltantes para todos os atributos\n",
        "np.where(pd.isnull(df))"
      ],
      "execution_count": 173,
      "outputs": [
        {
          "output_type": "execute_result",
          "data": {
            "text/plain": [
              "(array([], dtype=int64), array([], dtype=int64))"
            ]
          },
          "metadata": {
            "tags": []
          },
          "execution_count": 173
        }
      ]
    },
    {
      "cell_type": "markdown",
      "metadata": {
        "id": "13A1JapE2OQz"
      },
      "source": [
        "No atributo categoria, tem as seguintes labels, ou você é doador(0), hepapitis(1), fibrosis(2), cirosis(3). Logo precisamos unificar as labels acima, exceto o do doador.\n",
        "E também será necessario colocar o sexo como valores quantitativos já que estão qualitativos."
      ]
    },
    {
      "cell_type": "code",
      "metadata": {
        "colab": {
          "base_uri": "https://localhost:8080/",
          "height": 406
        },
        "id": "3JWCDW_S2Ndj",
        "outputId": "84e0318a-dd88-4760-ae23-87122d80e3bf"
      },
      "source": [
        "df['Category'] = df['Category'].replace(['0=Blood Donor', '1=Hepatitis', '2=Fibrosis', '3=Cirrhosis'],[1, 0, 0, 0])\n",
        "df['Sex'] = df['Sex'].replace(['m', 'f'],[0, 1])\n",
        "df"
      ],
      "execution_count": 174,
      "outputs": [
        {
          "output_type": "execute_result",
          "data": {
            "text/html": [
              "<div>\n",
              "<style scoped>\n",
              "    .dataframe tbody tr th:only-of-type {\n",
              "        vertical-align: middle;\n",
              "    }\n",
              "\n",
              "    .dataframe tbody tr th {\n",
              "        vertical-align: top;\n",
              "    }\n",
              "\n",
              "    .dataframe thead th {\n",
              "        text-align: right;\n",
              "    }\n",
              "</style>\n",
              "<table border=\"1\" class=\"dataframe\">\n",
              "  <thead>\n",
              "    <tr style=\"text-align: right;\">\n",
              "      <th></th>\n",
              "      <th>Category</th>\n",
              "      <th>Age</th>\n",
              "      <th>Sex</th>\n",
              "      <th>ALB</th>\n",
              "      <th>ALP</th>\n",
              "      <th>ALT</th>\n",
              "      <th>AST</th>\n",
              "      <th>BIL</th>\n",
              "      <th>CHE</th>\n",
              "      <th>CHOL</th>\n",
              "      <th>CREA</th>\n",
              "      <th>GGT</th>\n",
              "      <th>PROT</th>\n",
              "    </tr>\n",
              "  </thead>\n",
              "  <tbody>\n",
              "    <tr>\n",
              "      <th>0</th>\n",
              "      <td>1</td>\n",
              "      <td>32</td>\n",
              "      <td>0</td>\n",
              "      <td>38.5</td>\n",
              "      <td>52.5</td>\n",
              "      <td>7.7</td>\n",
              "      <td>22.1</td>\n",
              "      <td>7.5</td>\n",
              "      <td>6.93</td>\n",
              "      <td>3.23</td>\n",
              "      <td>106.0</td>\n",
              "      <td>12.1</td>\n",
              "      <td>69.0</td>\n",
              "    </tr>\n",
              "    <tr>\n",
              "      <th>1</th>\n",
              "      <td>1</td>\n",
              "      <td>32</td>\n",
              "      <td>0</td>\n",
              "      <td>38.5</td>\n",
              "      <td>70.3</td>\n",
              "      <td>18.0</td>\n",
              "      <td>24.7</td>\n",
              "      <td>3.9</td>\n",
              "      <td>11.17</td>\n",
              "      <td>4.80</td>\n",
              "      <td>74.0</td>\n",
              "      <td>15.6</td>\n",
              "      <td>76.5</td>\n",
              "    </tr>\n",
              "    <tr>\n",
              "      <th>2</th>\n",
              "      <td>1</td>\n",
              "      <td>32</td>\n",
              "      <td>0</td>\n",
              "      <td>46.9</td>\n",
              "      <td>74.7</td>\n",
              "      <td>36.2</td>\n",
              "      <td>52.6</td>\n",
              "      <td>6.1</td>\n",
              "      <td>8.84</td>\n",
              "      <td>5.20</td>\n",
              "      <td>86.0</td>\n",
              "      <td>33.2</td>\n",
              "      <td>79.3</td>\n",
              "    </tr>\n",
              "    <tr>\n",
              "      <th>3</th>\n",
              "      <td>1</td>\n",
              "      <td>32</td>\n",
              "      <td>0</td>\n",
              "      <td>43.2</td>\n",
              "      <td>52.0</td>\n",
              "      <td>30.6</td>\n",
              "      <td>22.6</td>\n",
              "      <td>18.9</td>\n",
              "      <td>7.33</td>\n",
              "      <td>4.74</td>\n",
              "      <td>80.0</td>\n",
              "      <td>33.8</td>\n",
              "      <td>75.7</td>\n",
              "    </tr>\n",
              "    <tr>\n",
              "      <th>4</th>\n",
              "      <td>1</td>\n",
              "      <td>32</td>\n",
              "      <td>0</td>\n",
              "      <td>39.2</td>\n",
              "      <td>74.1</td>\n",
              "      <td>32.6</td>\n",
              "      <td>24.8</td>\n",
              "      <td>9.6</td>\n",
              "      <td>9.15</td>\n",
              "      <td>4.32</td>\n",
              "      <td>76.0</td>\n",
              "      <td>29.9</td>\n",
              "      <td>68.7</td>\n",
              "    </tr>\n",
              "    <tr>\n",
              "      <th>...</th>\n",
              "      <td>...</td>\n",
              "      <td>...</td>\n",
              "      <td>...</td>\n",
              "      <td>...</td>\n",
              "      <td>...</td>\n",
              "      <td>...</td>\n",
              "      <td>...</td>\n",
              "      <td>...</td>\n",
              "      <td>...</td>\n",
              "      <td>...</td>\n",
              "      <td>...</td>\n",
              "      <td>...</td>\n",
              "      <td>...</td>\n",
              "    </tr>\n",
              "    <tr>\n",
              "      <th>608</th>\n",
              "      <td>0</td>\n",
              "      <td>58</td>\n",
              "      <td>1</td>\n",
              "      <td>34.0</td>\n",
              "      <td>46.4</td>\n",
              "      <td>15.0</td>\n",
              "      <td>150.0</td>\n",
              "      <td>8.0</td>\n",
              "      <td>6.26</td>\n",
              "      <td>3.98</td>\n",
              "      <td>56.0</td>\n",
              "      <td>49.7</td>\n",
              "      <td>80.6</td>\n",
              "    </tr>\n",
              "    <tr>\n",
              "      <th>609</th>\n",
              "      <td>0</td>\n",
              "      <td>59</td>\n",
              "      <td>1</td>\n",
              "      <td>39.0</td>\n",
              "      <td>51.3</td>\n",
              "      <td>19.6</td>\n",
              "      <td>285.8</td>\n",
              "      <td>40.0</td>\n",
              "      <td>5.77</td>\n",
              "      <td>4.51</td>\n",
              "      <td>136.1</td>\n",
              "      <td>101.1</td>\n",
              "      <td>70.5</td>\n",
              "    </tr>\n",
              "    <tr>\n",
              "      <th>610</th>\n",
              "      <td>0</td>\n",
              "      <td>62</td>\n",
              "      <td>1</td>\n",
              "      <td>32.0</td>\n",
              "      <td>416.6</td>\n",
              "      <td>5.9</td>\n",
              "      <td>110.3</td>\n",
              "      <td>50.0</td>\n",
              "      <td>5.57</td>\n",
              "      <td>6.30</td>\n",
              "      <td>55.7</td>\n",
              "      <td>650.9</td>\n",
              "      <td>68.5</td>\n",
              "    </tr>\n",
              "    <tr>\n",
              "      <th>611</th>\n",
              "      <td>0</td>\n",
              "      <td>64</td>\n",
              "      <td>1</td>\n",
              "      <td>24.0</td>\n",
              "      <td>102.8</td>\n",
              "      <td>2.9</td>\n",
              "      <td>44.4</td>\n",
              "      <td>20.0</td>\n",
              "      <td>1.54</td>\n",
              "      <td>3.02</td>\n",
              "      <td>63.0</td>\n",
              "      <td>35.9</td>\n",
              "      <td>71.3</td>\n",
              "    </tr>\n",
              "    <tr>\n",
              "      <th>612</th>\n",
              "      <td>0</td>\n",
              "      <td>64</td>\n",
              "      <td>1</td>\n",
              "      <td>29.0</td>\n",
              "      <td>87.3</td>\n",
              "      <td>3.5</td>\n",
              "      <td>99.0</td>\n",
              "      <td>48.0</td>\n",
              "      <td>1.66</td>\n",
              "      <td>3.63</td>\n",
              "      <td>66.7</td>\n",
              "      <td>64.2</td>\n",
              "      <td>82.0</td>\n",
              "    </tr>\n",
              "  </tbody>\n",
              "</table>\n",
              "<p>589 rows × 13 columns</p>\n",
              "</div>"
            ],
            "text/plain": [
              "    Category  Age  Sex   ALB    ALP  ...    CHE  CHOL   CREA    GGT  PROT\n",
              "0          1   32    0  38.5   52.5  ...   6.93  3.23  106.0   12.1  69.0\n",
              "1          1   32    0  38.5   70.3  ...  11.17  4.80   74.0   15.6  76.5\n",
              "2          1   32    0  46.9   74.7  ...   8.84  5.20   86.0   33.2  79.3\n",
              "3          1   32    0  43.2   52.0  ...   7.33  4.74   80.0   33.8  75.7\n",
              "4          1   32    0  39.2   74.1  ...   9.15  4.32   76.0   29.9  68.7\n",
              "..       ...  ...  ...   ...    ...  ...    ...   ...    ...    ...   ...\n",
              "608        0   58    1  34.0   46.4  ...   6.26  3.98   56.0   49.7  80.6\n",
              "609        0   59    1  39.0   51.3  ...   5.77  4.51  136.1  101.1  70.5\n",
              "610        0   62    1  32.0  416.6  ...   5.57  6.30   55.7  650.9  68.5\n",
              "611        0   64    1  24.0  102.8  ...   1.54  3.02   63.0   35.9  71.3\n",
              "612        0   64    1  29.0   87.3  ...   1.66  3.63   66.7   64.2  82.0\n",
              "\n",
              "[589 rows x 13 columns]"
            ]
          },
          "metadata": {
            "tags": []
          },
          "execution_count": 174
        }
      ]
    },
    {
      "cell_type": "markdown",
      "metadata": {
        "id": "vUpTLsSrtbvj"
      },
      "source": [
        "Normalizar os dados."
      ]
    },
    {
      "cell_type": "code",
      "metadata": {
        "id": "wOiGPxtA3Bxp"
      },
      "source": [
        "scaled_features = df.copy()\n",
        "\n",
        "colunas = ['Age', 'Sex', 'ALB', 'ALP', 'ALT', 'AST', 'BIL', 'CHE', 'CHOL', 'CREA', 'GGT', 'PROT']\n",
        "features = scaled_features[colunas]\n",
        "scaler = StandardScaler().fit(features.values)\n",
        "features = scaler.transform(features.values)\n",
        "\n",
        "df[colunas] = features\n",
        "#df"
      ],
      "execution_count": 194,
      "outputs": []
    },
    {
      "cell_type": "markdown",
      "metadata": {
        "id": "EAQnqiTh3VrH"
      },
      "source": [
        "Em seguida devemos separar quem são os possiveis doares."
      ]
    },
    {
      "cell_type": "code",
      "metadata": {
        "colab": {
          "base_uri": "https://localhost:8080/",
          "height": 97
        },
        "id": "GLZzpiBO3Tsp",
        "outputId": "984be932-f09c-4868-93e0-8ac4fa85fdbd"
      },
      "source": [
        "possible_donors = df[df.Category == '0s=suspect Blood Donor']\n",
        "possible_donors = possible_donors.drop(['Category'], axis = 1)\n",
        "print(possible_donors)\n",
        "possible_donors"
      ],
      "execution_count": 195,
      "outputs": [
        {
          "output_type": "stream",
          "text": [
            "Empty DataFrame\n",
            "Columns: [Age, Sex, ALB, ALP, ALT, AST, BIL, CHE, CHOL, CREA, GGT, PROT]\n",
            "Index: []\n"
          ],
          "name": "stdout"
        },
        {
          "output_type": "execute_result",
          "data": {
            "text/html": [
              "<div>\n",
              "<style scoped>\n",
              "    .dataframe tbody tr th:only-of-type {\n",
              "        vertical-align: middle;\n",
              "    }\n",
              "\n",
              "    .dataframe tbody tr th {\n",
              "        vertical-align: top;\n",
              "    }\n",
              "\n",
              "    .dataframe thead th {\n",
              "        text-align: right;\n",
              "    }\n",
              "</style>\n",
              "<table border=\"1\" class=\"dataframe\">\n",
              "  <thead>\n",
              "    <tr style=\"text-align: right;\">\n",
              "      <th></th>\n",
              "      <th>Age</th>\n",
              "      <th>Sex</th>\n",
              "      <th>ALB</th>\n",
              "      <th>ALP</th>\n",
              "      <th>ALT</th>\n",
              "      <th>AST</th>\n",
              "      <th>BIL</th>\n",
              "      <th>CHE</th>\n",
              "      <th>CHOL</th>\n",
              "      <th>CREA</th>\n",
              "      <th>GGT</th>\n",
              "      <th>PROT</th>\n",
              "    </tr>\n",
              "  </thead>\n",
              "  <tbody>\n",
              "  </tbody>\n",
              "</table>\n",
              "</div>"
            ],
            "text/plain": [
              "Empty DataFrame\n",
              "Columns: [Age, Sex, ALB, ALP, ALT, AST, BIL, CHE, CHOL, CREA, GGT, PROT]\n",
              "Index: []"
            ]
          },
          "metadata": {
            "tags": []
          },
          "execution_count": 195
        }
      ]
    },
    {
      "cell_type": "code",
      "metadata": {
        "id": "W24V0P1K3yAe"
      },
      "source": [
        "\n",
        "df = df.drop(df[df.Category == '0s=suspect Blood Donor'].index)\n",
        "#df"
      ],
      "execution_count": 196,
      "outputs": []
    },
    {
      "cell_type": "code",
      "metadata": {
        "colab": {
          "base_uri": "https://localhost:8080/",
          "height": 371
        },
        "id": "7DsVkeio355N",
        "outputId": "d0f836f8-183d-4f06-88de-6eca1aac1905"
      },
      "source": [
        "#A partir destes códigos conseguiremos saber quantos doadores tem no \n",
        "#atributo de category\n",
        "#e assim saberemos se são balenceados ou não.\n",
        "plt.style.use('fivethirtyeight')\n",
        "pd.value_counts(df['Category']).plot.bar()\n",
        "plt.title('Instâncias das categorias antes do SMOTE')\n",
        "plt.xlabel('Category')\n",
        "plt.ylabel('Frequency')\n",
        "df['Category'].value_counts()"
      ],
      "execution_count": 197,
      "outputs": [
        {
          "output_type": "execute_result",
          "data": {
            "text/plain": [
              "1    526\n",
              "0     56\n",
              "Name: Category, dtype: int64"
            ]
          },
          "metadata": {
            "tags": []
          },
          "execution_count": 197
        },
        {
          "output_type": "display_data",
          "data": {
            "image/png": "[encoded data removed]",
            "text/plain": [
              "<Figure size 432x288 with 1 Axes>"
            ]
          },
          "metadata": {
            "tags": []
          }
        }
      ]
    },
    {
      "cell_type": "markdown",
      "metadata": {
        "id": "0_xMDAhm4uRT"
      },
      "source": [
        "Em seguida, deveremos separar os dados, do atributo de categoria, para separar quem é doador e quem não é."
      ]
    },
    {
      "cell_type": "code",
      "metadata": {
        "colab": {
          "base_uri": "https://localhost:8080/"
        },
        "id": "INviS94D4ttC",
        "outputId": "29a60f5a-79ea-4919-f41e-1f8c6a586012"
      },
      "source": [
        "categoria = df.Category\n",
        "variaveis = df.drop('Category', axis=1)\n",
        "\n",
        "print('Forma de variaveis: {}'.format(variaveis.shape))\n",
        "print('Forma de categoria: {}'.format(categoria.shape))"
      ],
      "execution_count": 198,
      "outputs": [
        {
          "output_type": "stream",
          "text": [
            "Forma de variaveis: (582, 12)\n",
            "Forma de categoria: (582,)\n"
          ],
          "name": "stdout"
        }
      ]
    },
    {
      "cell_type": "code",
      "metadata": {
        "colab": {
          "base_uri": "https://localhost:8080/"
        },
        "id": "4DufvNWc47Uo",
        "outputId": "9704f963-f036-4c37-e284-5363cc68c4a5"
      },
      "source": [
        "from sklearn.preprocessing import LabelEncoder\n",
        "from imblearn.over_sampling import SMOTE\n",
        "print('Quantidade do label \"1\" antes do OverSampling: {}'.format(sum(categoria==1)))\n",
        "print(' Quantidade do label \"\" antes do OverSampling:{} \\n'.format(sum(categoria==0)))\n",
        "\n",
        "sm = SMOTE(random_state=1234)\n",
        "X, y = sm.fit_sample(variaveis.astype('float'), categoria)\n",
        "\n",
        "print('Depois X : {}'.format(X.shape))\n",
        "print('Depois  y: {} \\n'.format(y.shape))\n",
        "\n",
        "print('Quantidade do label \"1\" adepois do OverSampling: {}'.format(sum(y==1)))\n",
        "print('Quantidade do label \"0\" adepois do OverSampling:: {}'.format(sum(y==0)))\n",
        "\n",
        "\n",
        "\n",
        "\n",
        "label_encoder = LabelEncoder()\n",
        "y = label_encoder.fit_transform(y)\n",
        "y"
      ],
      "execution_count": 199,
      "outputs": [
        {
          "output_type": "stream",
          "text": [
            "Quantidade do label \"1\" antes do OverSampling: 526\n",
            " Quantidade do label \"\" antes do OverSampling:56 \n",
            "\n",
            "Depois X : (1052, 12)\n",
            "Depois  y: (1052,) \n",
            "\n",
            "Quantidade do label \"1\" adepois do OverSampling: 526\n",
            "Quantidade do label \"0\" adepois do OverSampling:: 526\n"
          ],
          "name": "stdout"
        },
        {
          "output_type": "stream",
          "text": [
            "/usr/local/lib/python3.6/dist-packages/imblearn/utils/_validation.py:93: UserWarning:\n",
            "\n",
            "'y' should be of types ('binary', 'multiclass', 'multilabel-indicator') only. Got unknown instead.\n",
            "\n",
            "/usr/local/lib/python3.6/dist-packages/sklearn/utils/deprecation.py:87: FutureWarning:\n",
            "\n",
            "Function safe_indexing is deprecated; safe_indexing is deprecated in version 0.22 and will be removed in version 0.24.\n",
            "\n"
          ],
          "name": "stderr"
        },
        {
          "output_type": "execute_result",
          "data": {
            "text/plain": [
              "array([1, 1, 1, ..., 0, 0, 0])"
            ]
          },
          "metadata": {
            "tags": []
          },
          "execution_count": 199
        }
      ]
    },
    {
      "cell_type": "markdown",
      "metadata": {
        "id": "MeT-K1M65spG"
      },
      "source": [
        "Agora novamente, será necessário a visualização para verificar se agora está balanceado."
      ]
    },
    {
      "cell_type": "code",
      "metadata": {
        "colab": {
          "base_uri": "https://localhost:8080/",
          "height": 371
        },
        "id": "wfRDJ9kP50i6",
        "outputId": "402cff24-9c17-4863-eeb9-14ed0f69a654"
      },
      "source": [
        "plt.style.use('fivethirtyeight')\n",
        "pd.value_counts(y).plot.bar()\n",
        "plt.title('Instâncias das categorias depois do SMOTE')\n",
        "plt.xlabel('y')\n",
        "plt.ylabel('Frequency')\n",
        "pd.value_counts(y)"
      ],
      "execution_count": 200,
      "outputs": [
        {
          "output_type": "execute_result",
          "data": {
            "text/plain": [
              "1    526\n",
              "0    526\n",
              "dtype: int64"
            ]
          },
          "metadata": {
            "tags": []
          },
          "execution_count": 200
        },
        {
          "output_type": "display_data",
          "data": {
            "image/png": "[encoded data removed]",
            "text/plain": [
              "<Figure size 432x288 with 1 Axes>"
            ]
          },
          "metadata": {
            "tags": []
          }
        }
      ]
    },
    {
      "cell_type": "markdown",
      "metadata": {
        "id": "V-NpGxe756rm"
      },
      "source": [
        "Após o pre-processamento da base de dados, poderemos separá o treinamento do teste, para a utilizar com o random Forest para o problema de classificação"
      ]
    },
    {
      "cell_type": "code",
      "metadata": {
        "id": "OGv1Mo9gA-bH"
      },
      "source": [
        "#primeiro vamos ajustar os dados do treino e dos testes\n",
        "from sklearn.model_selection import train_test_split\n",
        "X_train, X_test, y_train, y_test = train_test_split(X, y, test_size = 0.3, random_state = 1234)"
      ],
      "execution_count": 201,
      "outputs": []
    },
    {
      "cell_type": "markdown",
      "metadata": {
        "id": "YV1tZnDvBLA5"
      },
      "source": [
        "# Random Forest"
      ]
    },
    {
      "cell_type": "code",
      "metadata": {
        "id": "EmMeEszOBKM5"
      },
      "source": [
        "from sklearn.ensemble import RandomForestClassifier\n",
        "from sklearn import metrics\n",
        "model = RandomForestClassifier(n_estimators = 10, random_state = 1234)\n",
        "\n",
        "model.fit(X_train, y_train)\n",
        "\n",
        "predict_test = model.predict(X_test)\n"
      ],
      "execution_count": 202,
      "outputs": []
    },
    {
      "cell_type": "code",
      "metadata": {
        "colab": {
          "base_uri": "https://localhost:8080/"
        },
        "id": "wNFA19KfBXSm",
        "outputId": "6afac1cb-6056-4ea8-fc55-4371fdadaa70"
      },
      "source": [
        "print('Accuracy = ', metrics.accuracy_score(y_test, predict_test))\n",
        "matrizConfusao = metrics.confusion_matrix(y_test, predict_test)\n",
        "print(\"Matriz de Confusão:\\n\",matrizConfusao)"
      ],
      "execution_count": 203,
      "outputs": [
        {
          "output_type": "stream",
          "text": [
            "Accuracy =  0.9968354430379747\n",
            "Matriz de Confusão:\n",
            " [[151   0]\n",
            " [  1 164]]\n"
          ],
          "name": "stdout"
        }
      ]
    },
    {
      "cell_type": "markdown",
      "metadata": {
        "id": "03Mvj7WLCijG"
      },
      "source": [
        "# Knn"
      ]
    },
    {
      "cell_type": "code",
      "metadata": {
        "id": "yS2XxtcfCk-a"
      },
      "source": [
        "from sklearn.preprocessing import StandardScaler\n",
        "scaler = StandardScaler()\n",
        "scaler.fit(X_train)\n",
        "\n",
        "X_train = scaler.transform(X_train)\n",
        "X_test = scaler.transform(X_test)"
      ],
      "execution_count": 204,
      "outputs": []
    },
    {
      "cell_type": "markdown",
      "metadata": {
        "id": "mcd7asq7DZqw"
      },
      "source": [
        "Treinamento"
      ]
    },
    {
      "cell_type": "code",
      "metadata": {
        "colab": {
          "base_uri": "https://localhost:8080/"
        },
        "id": "1YkIXEHSDcTe",
        "outputId": "fabd1b4e-6c0d-428c-84d7-b270f10bec8b"
      },
      "source": [
        "from sklearn.neighbors import KNeighborsClassifier\n",
        "classifier = KNeighborsClassifier(n_neighbors=5, metric='euclidean')   #para mudar o valor de k, é só mudar no n_neighbors\n",
        "classifier.fit(X_train, y_train)"
      ],
      "execution_count": 205,
      "outputs": [
        {
          "output_type": "execute_result",
          "data": {
            "text/plain": [
              "KNeighborsClassifier(algorithm='auto', leaf_size=30, metric='euclidean',\n",
              "                     metric_params=None, n_jobs=None, n_neighbors=5, p=2,\n",
              "                     weights='uniform')"
            ]
          },
          "metadata": {
            "tags": []
          },
          "execution_count": 205
        }
      ]
    },
    {
      "cell_type": "code",
      "metadata": {
        "colab": {
          "base_uri": "https://localhost:8080/"
        },
        "id": "z1YXGoWUDYXU",
        "outputId": "f57cf146-c3cd-4d01-aee7-6cafc7a8fc70"
      },
      "source": [
        "y_pred = classifier.predict(X_test)\n",
        "print('Predição\\n', y_pred)\n",
        "print('Teste\\n', y_test)"
      ],
      "execution_count": 206,
      "outputs": [
        {
          "output_type": "stream",
          "text": [
            "Predição\n",
            " [0 0 0 0 1 0 1 0 0 1 1 1 0 1 0 1 1 0 0 1 1 1 0 1 1 1 1 0 0 1 0 0 0 0 0 0 0\n",
            " 1 1 1 1 0 1 0 1 0 0 0 1 0 1 0 0 1 1 1 0 1 0 1 0 0 0 0 1 1 1 1 1 0 1 0 1 1\n",
            " 0 1 1 1 0 0 0 1 1 1 1 1 1 1 1 0 1 1 1 0 1 0 0 0 0 0 1 1 0 1 0 1 1 1 1 0 0\n",
            " 0 1 1 1 1 0 1 1 1 1 0 0 1 1 0 1 0 0 1 0 0 1 0 0 1 0 0 1 0 0 1 1 0 1 0 1 0\n",
            " 0 1 1 1 1 0 0 0 1 0 0 0 0 1 0 0 1 0 0 0 1 1 1 0 0 1 1 1 1 0 1 1 0 0 1 1 1\n",
            " 1 1 0 1 0 1 1 0 1 0 0 1 1 1 1 1 0 1 1 1 0 1 0 0 1 0 1 1 0 0 0 1 0 0 0 0 1\n",
            " 0 1 0 1 1 0 0 0 1 0 0 1 1 1 0 1 0 1 1 0 1 1 0 0 0 0 1 1 1 0 0 0 1 0 0 0 0\n",
            " 0 0 0 1 1 0 0 1 1 0 1 0 0 1 1 0 0 1 1 1 1 0 1 0 0 0 1 1 0 1 1 0 1 0 0 0 0\n",
            " 1 1 0 0 0 1 1 0 0 0 1 1 1 1 1 1 0 1 0 1]\n",
            "Teste\n",
            " [0 0 0 0 1 0 1 0 0 1 1 1 0 1 0 1 1 0 0 1 1 1 0 1 1 1 1 0 0 1 0 0 0 0 0 0 0\n",
            " 1 1 1 1 0 1 0 1 0 0 0 1 0 1 0 0 1 1 1 0 1 0 1 0 1 0 0 1 1 1 1 1 0 1 0 1 1\n",
            " 1 1 1 1 0 0 0 1 1 1 1 1 1 1 1 0 1 1 1 0 1 0 0 0 0 0 1 1 0 1 0 1 1 1 1 0 0\n",
            " 0 1 1 1 1 0 1 1 1 1 0 0 1 1 0 1 0 0 1 0 0 1 0 0 1 0 0 1 0 0 1 1 0 1 0 1 0\n",
            " 0 1 1 1 1 0 0 0 1 0 0 0 0 1 0 0 1 0 0 0 1 1 1 0 0 1 1 1 1 0 1 1 0 0 1 1 1\n",
            " 1 1 0 1 0 1 1 0 1 0 0 1 1 1 1 1 0 1 1 1 0 1 0 0 1 0 1 1 0 0 0 1 0 1 0 0 1\n",
            " 0 1 0 1 1 0 0 0 1 0 0 1 1 1 0 1 0 1 1 0 1 1 0 0 0 0 1 1 1 0 0 0 1 0 0 0 0\n",
            " 0 0 0 1 1 0 0 1 1 0 1 0 0 1 1 0 0 1 1 1 1 0 1 0 0 0 1 1 0 1 1 0 1 0 0 0 0\n",
            " 1 1 0 0 0 1 1 0 0 0 1 1 1 1 1 1 0 1 0 1]\n"
          ],
          "name": "stdout"
        }
      ]
    },
    {
      "cell_type": "code",
      "metadata": {
        "colab": {
          "base_uri": "https://localhost:8080/"
        },
        "id": "TNBi54ShDhrv",
        "outputId": "ea7a96ba-d19a-4679-aa79-d51026998389"
      },
      "source": [
        "\n",
        "from sklearn.metrics import classification_report, confusion_matrix\n",
        "print('Matriz de Confusão:\\n',confusion_matrix(y_test, y_pred))\n",
        "print(classification_report(y_test, y_pred))"
      ],
      "execution_count": 209,
      "outputs": [
        {
          "output_type": "stream",
          "text": [
            "Matriz de Confusão:\n",
            " [[151   0]\n",
            " [  3 162]]\n",
            "              precision    recall  f1-score   support\n",
            "\n",
            "           0       0.98      1.00      0.99       151\n",
            "           1       1.00      0.98      0.99       165\n",
            "\n",
            "    accuracy                           0.99       316\n",
            "   macro avg       0.99      0.99      0.99       316\n",
            "weighted avg       0.99      0.99      0.99       316\n",
            "\n"
          ],
          "name": "stdout"
        }
      ]
    }
  ]
}