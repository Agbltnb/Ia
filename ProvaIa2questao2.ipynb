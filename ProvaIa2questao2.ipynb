{
  "nbformat": 4,
  "nbformat_minor": 0,
  "metadata": {
    "colab": {
      "name": "ProvaIa2questao2.ipynb",
      "provenance": [],
      "authorship_tag": "ABX9TyPNtLsIdlHeD9f4sd/p5o9f",
      "include_colab_link": true
    },
    "kernelspec": {
      "name": "python3",
      "display_name": "Python 3"
    }
  },
  "cells": [
    {
      "cell_type": "markdown",
      "metadata": {
        "id": "view-in-github",
        "colab_type": "text"
      },
      "source": [
        "<a href=\"https://colab.research.google.com/github/Agbltnb/Ia/blob/main/ProvaIa2questao2.ipynb\" target=\"_parent\"><img src=\"https://colab.research.google.com/assets/colab-badge.svg\" alt=\"Open In Colab\"/></a>"
      ]
    },
    {
      "cell_type": "markdown",
      "metadata": {
        "id": "-xKb7o3hkimR"
      },
      "source": [
        "# PROVA 2 - questão 2"
      ]
    },
    {
      "cell_type": "markdown",
      "metadata": {
        "id": "3DkWFkmmkOrw"
      },
      "source": [
        "Universidade Federal da Paraíba - IA - Prova 2\n",
        "Aluna: Ana Maria Pinto da Silva Nascimento - 20160143190\n",
        "Profª. Thaís Gaudencio\n",
        "Enuncida da Questão \n",
        "Utilizando a base de dados Wine DataSet, utilize dois algoritmos não supervisionados, podendo ser K-means, Hierárquico ou outros de sua escolha. Ambos os modelos devem ser analisados através da métrica silhueta ou outra métrica de sua escolha. Os resultados devem ser discutidos.\n",
        "\n",
        "Obs.: Originalmente, é uma base para classificação, dessa forma deve-se remover o primeiro atributo, referente à classe.\n",
        "\n",
        "Dataset utilizado:\n",
        "\n",
        "https://drive.google.com/file/d/16DZggHr5lShbHj0ZscKNiYvMVm8mTrX_/view\n",
        "\n"
      ]
    },
    {
      "cell_type": "markdown",
      "metadata": {
        "id": "f_Tjcb4-lKZg"
      },
      "source": [
        "# **Descrição dos dados do database**\n",
        "\n",
        "Os dados usados ​​neste experimento foram obtidos da base de dados UCI do conjunto de dados de vinhos italianos, que continha um tamanho de amostra de 178. Os dados contidos em cada variável são o resultado de uma análise química. Os vinhos italianos mostrados na amostra são cultivados na mesma área, mas de variedades diferentes. O conjunto de dados consiste em um total de 13 variáveis ​​numéricas.\n",
        "\n",
        "(0) Álcool: Teor alcoolico.\n",
        "\n",
        "(1) Ácido málico: É um tipo de ácido com forte acidez e aroma de maçã. O vinho tinto é naturalmente acompanhado de ácido málico.\n",
        "\n",
        "(2) Cinzas: A essência das cinzas é um sal inorgânico, que afeta o sabor geral do vinho e pode dar uma sensação de frescor ao vinho. (3) Alcalinidade das cinzas: É uma medida de alcalinidade fraca dissolvida em água.\n",
        "\n",
        "(4) Magnésio: é um elemento essencial do corpo humano, que pode promover o metabolismo energético e é fracamente alcalino.\n",
        "\n",
        "(5) Fenóis totais: moléculas contendo substâncias polifenólicas, que têm um sabor amargo e afetam o sabor, a cor e o sabor do vinho, e pertencem aos nutrientes do vinho.\n",
        "\n",
        "(6) Flavanóides: É um antioxidante benéfico para o coração e anti-envelhecimento, rico em aroma e amargo.\n",
        "\n",
        "(7) Fenóis não flavonóides: É um gás aromático especial com resistência à oxidação e é fracamente ácido.\n",
        "\n",
        "(8) Proantocianinas: É um composto bioflavonóide, que também é um antioxidante natural com um leve cheiro amargo.\n",
        "\n",
        "(9) Intensidade da cor: refere-se ao grau de tonalidade da cor. É usado para medir o estilo do vinho para ser “leve” ou “espesso”. A intensidade da cor é alta, entretanto quanto mais tempo o vinho e o suco de uva ficam em contato durante o processo de vinificação, mais espesso é o sabor.\n",
        "\n",
        "(10) Matiz: refere-se à vivacidade da cor e ao grau de calor e frio. Ele pode ser usado para medir a variedade e idade do vinho. 2019 5ª Conferência Internacional sobre Tecnologia da Educação, Gestão e Ciências Humanas (ETMHS 2019) Copyright © (2019) Francis Academic Press, Reino Unido 1443 DOI: 10.25236 / etmhs.2019.309 Os vinhos tintos com idades superiores terão uma tonalidade amarela e maior transparência. A intensidade da cor e o tom são indicadores importantes para avaliar a qualidade da aparência de um vinho.\n",
        "\n",
        "(11) Prolina: É o principal aminoácido do vinho tinto e uma parte importante da nutrição e do sabor do vinho.\n",
        "\n",
        "(12) OD280 / OD315 de vinhos diluídos: É um método de determinação da concentração de proteínas, que permite determinar o teor de proteínas de vários vinhos."
      ]
    },
    {
      "cell_type": "markdown",
      "metadata": {
        "id": "Fk2uMe-JlVfD"
      },
      "source": [
        "**Importação de bibliotecas**\n",
        "Importaremos as bibliotecas que serão necessárias para a solução desta questão."
      ]
    },
    {
      "cell_type": "code",
      "metadata": {
        "id": "Pj-ho9HsvtP2"
      },
      "source": [
        "from sklearn.model_selection import train_test_split\n",
        "import numpy as np\n",
        "import pandas as pd\n",
        "import warnings\n",
        "import os\n",
        "import seaborn as sns\n",
        "import matplotlib.pyplot as plt\n",
        "from sklearn import preprocessing\n",
        "from sklearn.preprocessing import RobustScaler\n",
        "from sklearn.decomposition import PCA\n",
        "from sklearn import cluster, neighbors, svm, metrics, preprocessing\n",
        "\n",
        "from sklearn.preprocessing import StandardScaler\n",
        "from sklearn.cluster import KMeans\n",
        "\n",
        "\n",
        "\n",
        "#ignore warnings\n",
        "#warnings.filterwarnings('ignore')\n",
        "\n",
        "# Open the data\n",
        "\n"
      ],
      "execution_count": 4,
      "outputs": []
    },
    {
      "cell_type": "markdown",
      "metadata": {
        "id": "jsKVzUBVlmiv"
      },
      "source": [
        "**Carregando o dataset**"
      ]
    },
    {
      "cell_type": "code",
      "metadata": {
        "id": "YVipCL7BFBUX"
      },
      "source": [
        "df = pd.read_csv('wine.csv')\n",
        "df.head()\n",
        "\n",
        "\n",
        "\n",
        "wine_names = ['Alcohol',\n",
        "            'Malic_acid',\n",
        "            'Ash', \n",
        "           'Alcalinity_of_ash',  \n",
        "           'Magnesium', \n",
        "            'Total_phenols', \n",
        "            'Flavanoids',\n",
        "            'Nonflavanoid_phenols',\n",
        "            'Proanthocyanins',  \n",
        "            'Color_intensity','Hue', 'OD280/OD315_of_diluted_wines',\n",
        "            'Proline']\n"
      ],
      "execution_count": 5,
      "outputs": []
    },
    {
      "cell_type": "code",
      "metadata": {
        "colab": {
          "base_uri": "https://localhost:8080/"
        },
        "id": "XOWMXfAev73q",
        "outputId": "7a139fc1-8c0b-45e1-f525-f88d64337e4a"
      },
      "source": [
        "print('Informações:  \\n')\n",
        "df.info"
      ],
      "execution_count": null,
      "outputs": [
        {
          "output_type": "stream",
          "text": [
            "Informações:  \n",
            "\n"
          ],
          "name": "stdout"
        },
        {
          "output_type": "execute_result",
          "data": {
            "text/plain": [
              "<bound method DataFrame.info of      Unnamed: 0  Alcohol  ...  OD280/OD315_of_diluted_wines  Proline\n",
              "0             0    14.23  ...                          3.92     1065\n",
              "1             1    13.20  ...                          3.40     1050\n",
              "2             2    13.16  ...                          3.17     1185\n",
              "3             3    14.37  ...                          3.45     1480\n",
              "4             4    13.24  ...                          2.93      735\n",
              "..          ...      ...  ...                           ...      ...\n",
              "173         173    13.71  ...                          1.74      740\n",
              "174         174    13.40  ...                          1.56      750\n",
              "175         175    13.27  ...                          1.56      835\n",
              "176         176    13.17  ...                          1.62      840\n",
              "177         177    14.13  ...                          1.60      560\n",
              "\n",
              "[178 rows x 14 columns]>"
            ]
          },
          "metadata": {
            "tags": []
          },
          "execution_count": 134
        }
      ]
    },
    {
      "cell_type": "markdown",
      "metadata": {
        "id": "f1KIFlwHltSm"
      },
      "source": [
        "Como é necessário eliminar a primeira coluna, logo o código abaixo mostra essa eliminação"
      ]
    },
    {
      "cell_type": "code",
      "metadata": {
        "colab": {
          "base_uri": "https://localhost:8080/",
          "height": 426
        },
        "id": "Fg48W4bLwVJS",
        "outputId": "0463a47e-ae9a-434f-a903-c0fd1d908a9c"
      },
      "source": [
        "df.dropna()\n",
        "df = df.drop(['Unnamed: 0'], axis=1)\n",
        "#df = df.drop(['a'], axis=1) #fiz esse pois, eu modifiquei manualmente no csv.\n",
        "#caso contrario é comentar essa linha acima, e descomentar a df.drop unnamed\n",
        "df"
      ],
      "execution_count": 6,
      "outputs": [
        {
          "output_type": "execute_result",
          "data": {
            "text/html": [
              "<div>\n",
              "<style scoped>\n",
              "    .dataframe tbody tr th:only-of-type {\n",
              "        vertical-align: middle;\n",
              "    }\n",
              "\n",
              "    .dataframe tbody tr th {\n",
              "        vertical-align: top;\n",
              "    }\n",
              "\n",
              "    .dataframe thead th {\n",
              "        text-align: right;\n",
              "    }\n",
              "</style>\n",
              "<table border=\"1\" class=\"dataframe\">\n",
              "  <thead>\n",
              "    <tr style=\"text-align: right;\">\n",
              "      <th></th>\n",
              "      <th>Alcohol</th>\n",
              "      <th>Malic_acid</th>\n",
              "      <th>Ash</th>\n",
              "      <th>Alcalinity_of_ash</th>\n",
              "      <th>Magnesium</th>\n",
              "      <th>Total_phenols</th>\n",
              "      <th>Flavanoids</th>\n",
              "      <th>Nonflavanoid_phenols</th>\n",
              "      <th>Proanthocyanins</th>\n",
              "      <th>Color_intensity</th>\n",
              "      <th>Hue</th>\n",
              "      <th>OD280/OD315_of_diluted_wines</th>\n",
              "      <th>Proline</th>\n",
              "    </tr>\n",
              "  </thead>\n",
              "  <tbody>\n",
              "    <tr>\n",
              "      <th>0</th>\n",
              "      <td>14.23</td>\n",
              "      <td>1.71</td>\n",
              "      <td>2.43</td>\n",
              "      <td>15.6</td>\n",
              "      <td>127</td>\n",
              "      <td>2.80</td>\n",
              "      <td>3.06</td>\n",
              "      <td>0.28</td>\n",
              "      <td>2.29</td>\n",
              "      <td>5.64</td>\n",
              "      <td>1.04</td>\n",
              "      <td>3.92</td>\n",
              "      <td>1065</td>\n",
              "    </tr>\n",
              "    <tr>\n",
              "      <th>1</th>\n",
              "      <td>13.20</td>\n",
              "      <td>1.78</td>\n",
              "      <td>2.14</td>\n",
              "      <td>11.2</td>\n",
              "      <td>100</td>\n",
              "      <td>2.65</td>\n",
              "      <td>2.76</td>\n",
              "      <td>0.26</td>\n",
              "      <td>1.28</td>\n",
              "      <td>4.38</td>\n",
              "      <td>1.05</td>\n",
              "      <td>3.40</td>\n",
              "      <td>1050</td>\n",
              "    </tr>\n",
              "    <tr>\n",
              "      <th>2</th>\n",
              "      <td>13.16</td>\n",
              "      <td>2.36</td>\n",
              "      <td>2.67</td>\n",
              "      <td>18.6</td>\n",
              "      <td>101</td>\n",
              "      <td>2.80</td>\n",
              "      <td>3.24</td>\n",
              "      <td>0.30</td>\n",
              "      <td>2.81</td>\n",
              "      <td>5.68</td>\n",
              "      <td>1.03</td>\n",
              "      <td>3.17</td>\n",
              "      <td>1185</td>\n",
              "    </tr>\n",
              "    <tr>\n",
              "      <th>3</th>\n",
              "      <td>14.37</td>\n",
              "      <td>1.95</td>\n",
              "      <td>2.50</td>\n",
              "      <td>16.8</td>\n",
              "      <td>113</td>\n",
              "      <td>3.85</td>\n",
              "      <td>3.49</td>\n",
              "      <td>0.24</td>\n",
              "      <td>2.18</td>\n",
              "      <td>7.80</td>\n",
              "      <td>0.86</td>\n",
              "      <td>3.45</td>\n",
              "      <td>1480</td>\n",
              "    </tr>\n",
              "    <tr>\n",
              "      <th>4</th>\n",
              "      <td>13.24</td>\n",
              "      <td>2.59</td>\n",
              "      <td>2.87</td>\n",
              "      <td>21.0</td>\n",
              "      <td>118</td>\n",
              "      <td>2.80</td>\n",
              "      <td>2.69</td>\n",
              "      <td>0.39</td>\n",
              "      <td>1.82</td>\n",
              "      <td>4.32</td>\n",
              "      <td>1.04</td>\n",
              "      <td>2.93</td>\n",
              "      <td>735</td>\n",
              "    </tr>\n",
              "    <tr>\n",
              "      <th>...</th>\n",
              "      <td>...</td>\n",
              "      <td>...</td>\n",
              "      <td>...</td>\n",
              "      <td>...</td>\n",
              "      <td>...</td>\n",
              "      <td>...</td>\n",
              "      <td>...</td>\n",
              "      <td>...</td>\n",
              "      <td>...</td>\n",
              "      <td>...</td>\n",
              "      <td>...</td>\n",
              "      <td>...</td>\n",
              "      <td>...</td>\n",
              "    </tr>\n",
              "    <tr>\n",
              "      <th>173</th>\n",
              "      <td>13.71</td>\n",
              "      <td>5.65</td>\n",
              "      <td>2.45</td>\n",
              "      <td>20.5</td>\n",
              "      <td>95</td>\n",
              "      <td>1.68</td>\n",
              "      <td>0.61</td>\n",
              "      <td>0.52</td>\n",
              "      <td>1.06</td>\n",
              "      <td>7.70</td>\n",
              "      <td>0.64</td>\n",
              "      <td>1.74</td>\n",
              "      <td>740</td>\n",
              "    </tr>\n",
              "    <tr>\n",
              "      <th>174</th>\n",
              "      <td>13.40</td>\n",
              "      <td>3.91</td>\n",
              "      <td>2.48</td>\n",
              "      <td>23.0</td>\n",
              "      <td>102</td>\n",
              "      <td>1.80</td>\n",
              "      <td>0.75</td>\n",
              "      <td>0.43</td>\n",
              "      <td>1.41</td>\n",
              "      <td>7.30</td>\n",
              "      <td>0.70</td>\n",
              "      <td>1.56</td>\n",
              "      <td>750</td>\n",
              "    </tr>\n",
              "    <tr>\n",
              "      <th>175</th>\n",
              "      <td>13.27</td>\n",
              "      <td>4.28</td>\n",
              "      <td>2.26</td>\n",
              "      <td>20.0</td>\n",
              "      <td>120</td>\n",
              "      <td>1.59</td>\n",
              "      <td>0.69</td>\n",
              "      <td>0.43</td>\n",
              "      <td>1.35</td>\n",
              "      <td>10.20</td>\n",
              "      <td>0.59</td>\n",
              "      <td>1.56</td>\n",
              "      <td>835</td>\n",
              "    </tr>\n",
              "    <tr>\n",
              "      <th>176</th>\n",
              "      <td>13.17</td>\n",
              "      <td>2.59</td>\n",
              "      <td>2.37</td>\n",
              "      <td>20.0</td>\n",
              "      <td>120</td>\n",
              "      <td>1.65</td>\n",
              "      <td>0.68</td>\n",
              "      <td>0.53</td>\n",
              "      <td>1.46</td>\n",
              "      <td>9.30</td>\n",
              "      <td>0.60</td>\n",
              "      <td>1.62</td>\n",
              "      <td>840</td>\n",
              "    </tr>\n",
              "    <tr>\n",
              "      <th>177</th>\n",
              "      <td>14.13</td>\n",
              "      <td>4.10</td>\n",
              "      <td>2.74</td>\n",
              "      <td>24.5</td>\n",
              "      <td>96</td>\n",
              "      <td>2.05</td>\n",
              "      <td>0.76</td>\n",
              "      <td>0.56</td>\n",
              "      <td>1.35</td>\n",
              "      <td>9.20</td>\n",
              "      <td>0.61</td>\n",
              "      <td>1.60</td>\n",
              "      <td>560</td>\n",
              "    </tr>\n",
              "  </tbody>\n",
              "</table>\n",
              "<p>178 rows × 13 columns</p>\n",
              "</div>"
            ],
            "text/plain": [
              "     Alcohol  Malic_acid   Ash  ...   Hue  OD280/OD315_of_diluted_wines  Proline\n",
              "0      14.23        1.71  2.43  ...  1.04                          3.92     1065\n",
              "1      13.20        1.78  2.14  ...  1.05                          3.40     1050\n",
              "2      13.16        2.36  2.67  ...  1.03                          3.17     1185\n",
              "3      14.37        1.95  2.50  ...  0.86                          3.45     1480\n",
              "4      13.24        2.59  2.87  ...  1.04                          2.93      735\n",
              "..       ...         ...   ...  ...   ...                           ...      ...\n",
              "173    13.71        5.65  2.45  ...  0.64                          1.74      740\n",
              "174    13.40        3.91  2.48  ...  0.70                          1.56      750\n",
              "175    13.27        4.28  2.26  ...  0.59                          1.56      835\n",
              "176    13.17        2.59  2.37  ...  0.60                          1.62      840\n",
              "177    14.13        4.10  2.74  ...  0.61                          1.60      560\n",
              "\n",
              "[178 rows x 13 columns]"
            ]
          },
          "metadata": {
            "tags": []
          },
          "execution_count": 6
        }
      ]
    },
    {
      "cell_type": "markdown",
      "metadata": {
        "id": "9_cM60yQbb1B"
      },
      "source": [
        "Algo interessante a se fazer é verificar a correlação"
      ]
    },
    {
      "cell_type": "code",
      "metadata": {
        "colab": {
          "base_uri": "https://localhost:8080/",
          "height": 286
        },
        "id": "tDU5y4jjxzOb",
        "outputId": "89a1ddb9-5a28-436f-f9c1-534c8f8865f8"
      },
      "source": [
        "correlation = df.corr()\n",
        "correlation.style.background_gradient(cmap='coolwarm')\n"
      ],
      "execution_count": 7,
      "outputs": [
        {
          "output_type": "execute_result",
          "data": {
            "text/html": [
              "<style  type=\"text/css\" >\n",
              "#T_f13ab3da_3e3d_11eb_9820_0242ac1c0002row0_col0,#T_f13ab3da_3e3d_11eb_9820_0242ac1c0002row1_col1,#T_f13ab3da_3e3d_11eb_9820_0242ac1c0002row2_col2,#T_f13ab3da_3e3d_11eb_9820_0242ac1c0002row3_col3,#T_f13ab3da_3e3d_11eb_9820_0242ac1c0002row4_col4,#T_f13ab3da_3e3d_11eb_9820_0242ac1c0002row5_col5,#T_f13ab3da_3e3d_11eb_9820_0242ac1c0002row6_col6,#T_f13ab3da_3e3d_11eb_9820_0242ac1c0002row7_col7,#T_f13ab3da_3e3d_11eb_9820_0242ac1c0002row8_col8,#T_f13ab3da_3e3d_11eb_9820_0242ac1c0002row9_col9,#T_f13ab3da_3e3d_11eb_9820_0242ac1c0002row10_col10,#T_f13ab3da_3e3d_11eb_9820_0242ac1c0002row11_col11,#T_f13ab3da_3e3d_11eb_9820_0242ac1c0002row12_col12{\n",
              "            background-color:  #b40426;\n",
              "            color:  #f1f1f1;\n",
              "        }#T_f13ab3da_3e3d_11eb_9820_0242ac1c0002row0_col1,#T_f13ab3da_3e3d_11eb_9820_0242ac1c0002row0_col4{\n",
              "            background-color:  #c6d6f1;\n",
              "            color:  #000000;\n",
              "        }#T_f13ab3da_3e3d_11eb_9820_0242ac1c0002row0_col2{\n",
              "            background-color:  #93b5fe;\n",
              "            color:  #000000;\n",
              "        }#T_f13ab3da_3e3d_11eb_9820_0242ac1c0002row0_col3{\n",
              "            background-color:  #5673e0;\n",
              "            color:  #000000;\n",
              "        }#T_f13ab3da_3e3d_11eb_9820_0242ac1c0002row0_col5,#T_f13ab3da_3e3d_11eb_9820_0242ac1c0002row12_col8,#T_f13ab3da_3e3d_11eb_9820_0242ac1c0002row12_col10{\n",
              "            background-color:  #dfdbd9;\n",
              "            color:  #000000;\n",
              "        }#T_f13ab3da_3e3d_11eb_9820_0242ac1c0002row0_col6{\n",
              "            background-color:  #dddcdc;\n",
              "            color:  #000000;\n",
              "        }#T_f13ab3da_3e3d_11eb_9820_0242ac1c0002row0_col7,#T_f13ab3da_3e3d_11eb_9820_0242ac1c0002row4_col3,#T_f13ab3da_3e3d_11eb_9820_0242ac1c0002row9_col8,#T_f13ab3da_3e3d_11eb_9820_0242ac1c0002row10_col4{\n",
              "            background-color:  #8caffe;\n",
              "            color:  #000000;\n",
              "        }#T_f13ab3da_3e3d_11eb_9820_0242ac1c0002row0_col8{\n",
              "            background-color:  #b6cefa;\n",
              "            color:  #000000;\n",
              "        }#T_f13ab3da_3e3d_11eb_9820_0242ac1c0002row0_col9{\n",
              "            background-color:  #f7ac8e;\n",
              "            color:  #000000;\n",
              "        }#T_f13ab3da_3e3d_11eb_9820_0242ac1c0002row0_col10{\n",
              "            background-color:  #a3c2fe;\n",
              "            color:  #000000;\n",
              "        }#T_f13ab3da_3e3d_11eb_9820_0242ac1c0002row0_col11{\n",
              "            background-color:  #bbd1f8;\n",
              "            color:  #000000;\n",
              "        }#T_f13ab3da_3e3d_11eb_9820_0242ac1c0002row0_col12{\n",
              "            background-color:  #f4987a;\n",
              "            color:  #000000;\n",
              "        }#T_f13ab3da_3e3d_11eb_9820_0242ac1c0002row1_col0,#T_f13ab3da_3e3d_11eb_9820_0242ac1c0002row2_col10,#T_f13ab3da_3e3d_11eb_9820_0242ac1c0002row9_col2{\n",
              "            background-color:  #a2c1ff;\n",
              "            color:  #000000;\n",
              "        }#T_f13ab3da_3e3d_11eb_9820_0242ac1c0002row1_col2{\n",
              "            background-color:  #82a6fb;\n",
              "            color:  #000000;\n",
              "        }#T_f13ab3da_3e3d_11eb_9820_0242ac1c0002row1_col3,#T_f13ab3da_3e3d_11eb_9820_0242ac1c0002row1_col9{\n",
              "            background-color:  #dedcdb;\n",
              "            color:  #000000;\n",
              "        }#T_f13ab3da_3e3d_11eb_9820_0242ac1c0002row1_col4{\n",
              "            background-color:  #6e90f2;\n",
              "            color:  #000000;\n",
              "        }#T_f13ab3da_3e3d_11eb_9820_0242ac1c0002row1_col5,#T_f13ab3da_3e3d_11eb_9820_0242ac1c0002row8_col2{\n",
              "            background-color:  #536edd;\n",
              "            color:  #000000;\n",
              "        }#T_f13ab3da_3e3d_11eb_9820_0242ac1c0002row1_col6,#T_f13ab3da_3e3d_11eb_9820_0242ac1c0002row5_col3{\n",
              "            background-color:  #5470de;\n",
              "            color:  #000000;\n",
              "        }#T_f13ab3da_3e3d_11eb_9820_0242ac1c0002row1_col7,#T_f13ab3da_3e3d_11eb_9820_0242ac1c0002row12_col11{\n",
              "            background-color:  #e7d7ce;\n",
              "            color:  #000000;\n",
              "        }#T_f13ab3da_3e3d_11eb_9820_0242ac1c0002row1_col8{\n",
              "            background-color:  #5b7ae5;\n",
              "            color:  #000000;\n",
              "        }#T_f13ab3da_3e3d_11eb_9820_0242ac1c0002row1_col10,#T_f13ab3da_3e3d_11eb_9820_0242ac1c0002row3_col0,#T_f13ab3da_3e3d_11eb_9820_0242ac1c0002row3_col12,#T_f13ab3da_3e3d_11eb_9820_0242ac1c0002row6_col7,#T_f13ab3da_3e3d_11eb_9820_0242ac1c0002row7_col4,#T_f13ab3da_3e3d_11eb_9820_0242ac1c0002row7_col5,#T_f13ab3da_3e3d_11eb_9820_0242ac1c0002row7_col6,#T_f13ab3da_3e3d_11eb_9820_0242ac1c0002row7_col8,#T_f13ab3da_3e3d_11eb_9820_0242ac1c0002row7_col11,#T_f13ab3da_3e3d_11eb_9820_0242ac1c0002row10_col1,#T_f13ab3da_3e3d_11eb_9820_0242ac1c0002row10_col2,#T_f13ab3da_3e3d_11eb_9820_0242ac1c0002row10_col9,#T_f13ab3da_3e3d_11eb_9820_0242ac1c0002row12_col3{\n",
              "            background-color:  #3b4cc0;\n",
              "            color:  #f1f1f1;\n",
              "        }#T_f13ab3da_3e3d_11eb_9820_0242ac1c0002row1_col11,#T_f13ab3da_3e3d_11eb_9820_0242ac1c0002row3_col5,#T_f13ab3da_3e3d_11eb_9820_0242ac1c0002row7_col12{\n",
              "            background-color:  #5572df;\n",
              "            color:  #000000;\n",
              "        }#T_f13ab3da_3e3d_11eb_9820_0242ac1c0002row1_col12{\n",
              "            background-color:  #7295f4;\n",
              "            color:  #000000;\n",
              "        }#T_f13ab3da_3e3d_11eb_9820_0242ac1c0002row2_col0,#T_f13ab3da_3e3d_11eb_9820_0242ac1c0002row4_col10{\n",
              "            background-color:  #bfd3f6;\n",
              "            color:  #000000;\n",
              "        }#T_f13ab3da_3e3d_11eb_9820_0242ac1c0002row2_col1,#T_f13ab3da_3e3d_11eb_9820_0242ac1c0002row2_col12{\n",
              "            background-color:  #d3dbe7;\n",
              "            color:  #000000;\n",
              "        }#T_f13ab3da_3e3d_11eb_9820_0242ac1c0002row2_col3{\n",
              "            background-color:  #f3c7b1;\n",
              "            color:  #000000;\n",
              "        }#T_f13ab3da_3e3d_11eb_9820_0242ac1c0002row2_col4{\n",
              "            background-color:  #cad8ef;\n",
              "            color:  #000000;\n",
              "        }#T_f13ab3da_3e3d_11eb_9820_0242ac1c0002row2_col5{\n",
              "            background-color:  #c0d4f5;\n",
              "            color:  #000000;\n",
              "        }#T_f13ab3da_3e3d_11eb_9820_0242ac1c0002row2_col6{\n",
              "            background-color:  #c7d7f0;\n",
              "            color:  #000000;\n",
              "        }#T_f13ab3da_3e3d_11eb_9820_0242ac1c0002row2_col7,#T_f13ab3da_3e3d_11eb_9820_0242ac1c0002row10_col12{\n",
              "            background-color:  #d5dbe5;\n",
              "            color:  #000000;\n",
              "        }#T_f13ab3da_3e3d_11eb_9820_0242ac1c0002row2_col8{\n",
              "            background-color:  #96b7ff;\n",
              "            color:  #000000;\n",
              "        }#T_f13ab3da_3e3d_11eb_9820_0242ac1c0002row2_col9{\n",
              "            background-color:  #e0dbd8;\n",
              "            color:  #000000;\n",
              "        }#T_f13ab3da_3e3d_11eb_9820_0242ac1c0002row2_col11,#T_f13ab3da_3e3d_11eb_9820_0242ac1c0002row4_col2{\n",
              "            background-color:  #abc8fd;\n",
              "            color:  #000000;\n",
              "        }#T_f13ab3da_3e3d_11eb_9820_0242ac1c0002row3_col1{\n",
              "            background-color:  #e8d6cc;\n",
              "            color:  #000000;\n",
              "        }#T_f13ab3da_3e3d_11eb_9820_0242ac1c0002row3_col2,#T_f13ab3da_3e3d_11eb_9820_0242ac1c0002row10_col8{\n",
              "            background-color:  #d8dce2;\n",
              "            color:  #000000;\n",
              "        }#T_f13ab3da_3e3d_11eb_9820_0242ac1c0002row3_col4{\n",
              "            background-color:  #6687ed;\n",
              "            color:  #000000;\n",
              "        }#T_f13ab3da_3e3d_11eb_9820_0242ac1c0002row3_col6,#T_f13ab3da_3e3d_11eb_9820_0242ac1c0002row3_col8,#T_f13ab3da_3e3d_11eb_9820_0242ac1c0002row11_col1{\n",
              "            background-color:  #6180e9;\n",
              "            color:  #000000;\n",
              "        }#T_f13ab3da_3e3d_11eb_9820_0242ac1c0002row3_col7{\n",
              "            background-color:  #efcebd;\n",
              "            color:  #000000;\n",
              "        }#T_f13ab3da_3e3d_11eb_9820_0242ac1c0002row3_col9{\n",
              "            background-color:  #b1cbfc;\n",
              "            color:  #000000;\n",
              "        }#T_f13ab3da_3e3d_11eb_9820_0242ac1c0002row3_col10{\n",
              "            background-color:  #7699f6;\n",
              "            color:  #000000;\n",
              "        }#T_f13ab3da_3e3d_11eb_9820_0242ac1c0002row3_col11{\n",
              "            background-color:  #6a8bef;\n",
              "            color:  #000000;\n",
              "        }#T_f13ab3da_3e3d_11eb_9820_0242ac1c0002row4_col0{\n",
              "            background-color:  #cdd9ec;\n",
              "            color:  #000000;\n",
              "        }#T_f13ab3da_3e3d_11eb_9820_0242ac1c0002row4_col1,#T_f13ab3da_3e3d_11eb_9820_0242ac1c0002row8_col9{\n",
              "            background-color:  #a7c5fe;\n",
              "            color:  #000000;\n",
              "        }#T_f13ab3da_3e3d_11eb_9820_0242ac1c0002row4_col5,#T_f13ab3da_3e3d_11eb_9820_0242ac1c0002row5_col0{\n",
              "            background-color:  #d2dbe8;\n",
              "            color:  #000000;\n",
              "        }#T_f13ab3da_3e3d_11eb_9820_0242ac1c0002row4_col6{\n",
              "            background-color:  #d7dce3;\n",
              "            color:  #000000;\n",
              "        }#T_f13ab3da_3e3d_11eb_9820_0242ac1c0002row4_col7,#T_f13ab3da_3e3d_11eb_9820_0242ac1c0002row10_col0{\n",
              "            background-color:  #7597f6;\n",
              "            color:  #000000;\n",
              "        }#T_f13ab3da_3e3d_11eb_9820_0242ac1c0002row4_col8,#T_f13ab3da_3e3d_11eb_9820_0242ac1c0002row9_col7{\n",
              "            background-color:  #ccd9ed;\n",
              "            color:  #000000;\n",
              "        }#T_f13ab3da_3e3d_11eb_9820_0242ac1c0002row4_col9{\n",
              "            background-color:  #d6dce4;\n",
              "            color:  #000000;\n",
              "        }#T_f13ab3da_3e3d_11eb_9820_0242ac1c0002row4_col11{\n",
              "            background-color:  #b9d0f9;\n",
              "            color:  #000000;\n",
              "        }#T_f13ab3da_3e3d_11eb_9820_0242ac1c0002row4_col12{\n",
              "            background-color:  #efcfbf;\n",
              "            color:  #000000;\n",
              "        }#T_f13ab3da_3e3d_11eb_9820_0242ac1c0002row5_col1,#T_f13ab3da_3e3d_11eb_9820_0242ac1c0002row12_col7{\n",
              "            background-color:  #688aef;\n",
              "            color:  #000000;\n",
              "        }#T_f13ab3da_3e3d_11eb_9820_0242ac1c0002row5_col2,#T_f13ab3da_3e3d_11eb_9820_0242ac1c0002row7_col10{\n",
              "            background-color:  #779af7;\n",
              "            color:  #000000;\n",
              "        }#T_f13ab3da_3e3d_11eb_9820_0242ac1c0002row5_col4{\n",
              "            background-color:  #b7cff9;\n",
              "            color:  #000000;\n",
              "        }#T_f13ab3da_3e3d_11eb_9820_0242ac1c0002row5_col6{\n",
              "            background-color:  #d24b40;\n",
              "            color:  #f1f1f1;\n",
              "        }#T_f13ab3da_3e3d_11eb_9820_0242ac1c0002row5_col7{\n",
              "            background-color:  #4b64d5;\n",
              "            color:  #f1f1f1;\n",
              "        }#T_f13ab3da_3e3d_11eb_9820_0242ac1c0002row5_col8{\n",
              "            background-color:  #f7a688;\n",
              "            color:  #000000;\n",
              "        }#T_f13ab3da_3e3d_11eb_9820_0242ac1c0002row5_col9{\n",
              "            background-color:  #a1c0ff;\n",
              "            color:  #000000;\n",
              "        }#T_f13ab3da_3e3d_11eb_9820_0242ac1c0002row5_col10{\n",
              "            background-color:  #f5c0a7;\n",
              "            color:  #000000;\n",
              "        }#T_f13ab3da_3e3d_11eb_9820_0242ac1c0002row5_col11{\n",
              "            background-color:  #ee8468;\n",
              "            color:  #000000;\n",
              "        }#T_f13ab3da_3e3d_11eb_9820_0242ac1c0002row5_col12,#T_f13ab3da_3e3d_11eb_9820_0242ac1c0002row6_col12{\n",
              "            background-color:  #f6bda2;\n",
              "            color:  #000000;\n",
              "        }#T_f13ab3da_3e3d_11eb_9820_0242ac1c0002row6_col0{\n",
              "            background-color:  #c5d6f2;\n",
              "            color:  #000000;\n",
              "        }#T_f13ab3da_3e3d_11eb_9820_0242ac1c0002row6_col1{\n",
              "            background-color:  #5875e1;\n",
              "            color:  #000000;\n",
              "        }#T_f13ab3da_3e3d_11eb_9820_0242ac1c0002row6_col2,#T_f13ab3da_3e3d_11eb_9820_0242ac1c0002row10_col7{\n",
              "            background-color:  #7396f5;\n",
              "            color:  #000000;\n",
              "        }#T_f13ab3da_3e3d_11eb_9820_0242ac1c0002row6_col3,#T_f13ab3da_3e3d_11eb_9820_0242ac1c0002row11_col9{\n",
              "            background-color:  #4c66d6;\n",
              "            color:  #000000;\n",
              "        }#T_f13ab3da_3e3d_11eb_9820_0242ac1c0002row6_col4,#T_f13ab3da_3e3d_11eb_9820_0242ac1c0002row9_col4{\n",
              "            background-color:  #b3cdfb;\n",
              "            color:  #000000;\n",
              "        }#T_f13ab3da_3e3d_11eb_9820_0242ac1c0002row6_col5{\n",
              "            background-color:  #d44e41;\n",
              "            color:  #000000;\n",
              "        }#T_f13ab3da_3e3d_11eb_9820_0242ac1c0002row6_col8{\n",
              "            background-color:  #f59c7d;\n",
              "            color:  #000000;\n",
              "        }#T_f13ab3da_3e3d_11eb_9820_0242ac1c0002row6_col9{\n",
              "            background-color:  #85a8fc;\n",
              "            color:  #000000;\n",
              "        }#T_f13ab3da_3e3d_11eb_9820_0242ac1c0002row6_col10{\n",
              "            background-color:  #f7a98b;\n",
              "            color:  #000000;\n",
              "        }#T_f13ab3da_3e3d_11eb_9820_0242ac1c0002row6_col11{\n",
              "            background-color:  #e26952;\n",
              "            color:  #000000;\n",
              "        }#T_f13ab3da_3e3d_11eb_9820_0242ac1c0002row7_col0{\n",
              "            background-color:  #5f7fe8;\n",
              "            color:  #000000;\n",
              "        }#T_f13ab3da_3e3d_11eb_9820_0242ac1c0002row7_col1,#T_f13ab3da_3e3d_11eb_9820_0242ac1c0002row8_col10,#T_f13ab3da_3e3d_11eb_9820_0242ac1c0002row12_col9{\n",
              "            background-color:  #e9d5cb;\n",
              "            color:  #000000;\n",
              "        }#T_f13ab3da_3e3d_11eb_9820_0242ac1c0002row7_col2{\n",
              "            background-color:  #8badfd;\n",
              "            color:  #000000;\n",
              "        }#T_f13ab3da_3e3d_11eb_9820_0242ac1c0002row7_col3{\n",
              "            background-color:  #ead4c8;\n",
              "            color:  #000000;\n",
              "        }#T_f13ab3da_3e3d_11eb_9820_0242ac1c0002row7_col9{\n",
              "            background-color:  #cbd8ee;\n",
              "            color:  #000000;\n",
              "        }#T_f13ab3da_3e3d_11eb_9820_0242ac1c0002row8_col0{\n",
              "            background-color:  #adc9fd;\n",
              "            color:  #000000;\n",
              "        }#T_f13ab3da_3e3d_11eb_9820_0242ac1c0002row8_col1{\n",
              "            background-color:  #81a4fb;\n",
              "            color:  #000000;\n",
              "        }#T_f13ab3da_3e3d_11eb_9820_0242ac1c0002row8_col3{\n",
              "            background-color:  #7093f3;\n",
              "            color:  #000000;\n",
              "        }#T_f13ab3da_3e3d_11eb_9820_0242ac1c0002row8_col4{\n",
              "            background-color:  #bed2f6;\n",
              "            color:  #000000;\n",
              "        }#T_f13ab3da_3e3d_11eb_9820_0242ac1c0002row8_col5{\n",
              "            background-color:  #f5a081;\n",
              "            color:  #000000;\n",
              "        }#T_f13ab3da_3e3d_11eb_9820_0242ac1c0002row8_col6{\n",
              "            background-color:  #f18f71;\n",
              "            color:  #000000;\n",
              "        }#T_f13ab3da_3e3d_11eb_9820_0242ac1c0002row8_col7{\n",
              "            background-color:  #5d7ce6;\n",
              "            color:  #000000;\n",
              "        }#T_f13ab3da_3e3d_11eb_9820_0242ac1c0002row8_col11{\n",
              "            background-color:  #f7b396;\n",
              "            color:  #000000;\n",
              "        }#T_f13ab3da_3e3d_11eb_9820_0242ac1c0002row8_col12{\n",
              "            background-color:  #e6d7cf;\n",
              "            color:  #000000;\n",
              "        }#T_f13ab3da_3e3d_11eb_9820_0242ac1c0002row9_col0,#T_f13ab3da_3e3d_11eb_9820_0242ac1c0002row12_col5{\n",
              "            background-color:  #f7bca1;\n",
              "            color:  #000000;\n",
              "        }#T_f13ab3da_3e3d_11eb_9820_0242ac1c0002row9_col1,#T_f13ab3da_3e3d_11eb_9820_0242ac1c0002row12_col4{\n",
              "            background-color:  #e1dad6;\n",
              "            color:  #000000;\n",
              "        }#T_f13ab3da_3e3d_11eb_9820_0242ac1c0002row9_col3{\n",
              "            background-color:  #a5c3fe;\n",
              "            color:  #000000;\n",
              "        }#T_f13ab3da_3e3d_11eb_9820_0242ac1c0002row9_col5{\n",
              "            background-color:  #94b6ff;\n",
              "            color:  #000000;\n",
              "        }#T_f13ab3da_3e3d_11eb_9820_0242ac1c0002row9_col6,#T_f13ab3da_3e3d_11eb_9820_0242ac1c0002row12_col1{\n",
              "            background-color:  #88abfd;\n",
              "            color:  #000000;\n",
              "        }#T_f13ab3da_3e3d_11eb_9820_0242ac1c0002row9_col10{\n",
              "            background-color:  #4257c9;\n",
              "            color:  #f1f1f1;\n",
              "        }#T_f13ab3da_3e3d_11eb_9820_0242ac1c0002row9_col11{\n",
              "            background-color:  #4961d2;\n",
              "            color:  #f1f1f1;\n",
              "        }#T_f13ab3da_3e3d_11eb_9820_0242ac1c0002row9_col12{\n",
              "            background-color:  #e3d9d3;\n",
              "            color:  #000000;\n",
              "        }#T_f13ab3da_3e3d_11eb_9820_0242ac1c0002row10_col3,#T_f13ab3da_3e3d_11eb_9820_0242ac1c0002row11_col3{\n",
              "            background-color:  #5e7de7;\n",
              "            color:  #000000;\n",
              "        }#T_f13ab3da_3e3d_11eb_9820_0242ac1c0002row10_col5{\n",
              "            background-color:  #f3c8b2;\n",
              "            color:  #000000;\n",
              "        }#T_f13ab3da_3e3d_11eb_9820_0242ac1c0002row10_col6{\n",
              "            background-color:  #f7aa8c;\n",
              "            color:  #000000;\n",
              "        }#T_f13ab3da_3e3d_11eb_9820_0242ac1c0002row10_col11{\n",
              "            background-color:  #f7a889;\n",
              "            color:  #000000;\n",
              "        }#T_f13ab3da_3e3d_11eb_9820_0242ac1c0002row11_col0{\n",
              "            background-color:  #9bbcff;\n",
              "            color:  #000000;\n",
              "        }#T_f13ab3da_3e3d_11eb_9820_0242ac1c0002row11_col2{\n",
              "            background-color:  #506bda;\n",
              "            color:  #000000;\n",
              "        }#T_f13ab3da_3e3d_11eb_9820_0242ac1c0002row11_col4{\n",
              "            background-color:  #8fb1fe;\n",
              "            color:  #000000;\n",
              "        }#T_f13ab3da_3e3d_11eb_9820_0242ac1c0002row11_col5{\n",
              "            background-color:  #ee8669;\n",
              "            color:  #000000;\n",
              "        }#T_f13ab3da_3e3d_11eb_9820_0242ac1c0002row11_col6{\n",
              "            background-color:  #e16751;\n",
              "            color:  #000000;\n",
              "        }#T_f13ab3da_3e3d_11eb_9820_0242ac1c0002row11_col7{\n",
              "            background-color:  #4055c8;\n",
              "            color:  #f1f1f1;\n",
              "        }#T_f13ab3da_3e3d_11eb_9820_0242ac1c0002row11_col8{\n",
              "            background-color:  #f6bea4;\n",
              "            color:  #000000;\n",
              "        }#T_f13ab3da_3e3d_11eb_9820_0242ac1c0002row11_col10{\n",
              "            background-color:  #f6a586;\n",
              "            color:  #000000;\n",
              "        }#T_f13ab3da_3e3d_11eb_9820_0242ac1c0002row11_col12{\n",
              "            background-color:  #e2dad5;\n",
              "            color:  #000000;\n",
              "        }#T_f13ab3da_3e3d_11eb_9820_0242ac1c0002row12_col0{\n",
              "            background-color:  #f6a283;\n",
              "            color:  #000000;\n",
              "        }#T_f13ab3da_3e3d_11eb_9820_0242ac1c0002row12_col2{\n",
              "            background-color:  #97b8ff;\n",
              "            color:  #000000;\n",
              "        }#T_f13ab3da_3e3d_11eb_9820_0242ac1c0002row12_col6{\n",
              "            background-color:  #f7b79b;\n",
              "            color:  #000000;\n",
              "        }</style><table id=\"T_f13ab3da_3e3d_11eb_9820_0242ac1c0002\" ><thead>    <tr>        <th class=\"blank level0\" ></th>        <th class=\"col_heading level0 col0\" >Alcohol</th>        <th class=\"col_heading level0 col1\" >Malic_acid</th>        <th class=\"col_heading level0 col2\" >Ash</th>        <th class=\"col_heading level0 col3\" >Alcalinity_of_ash</th>        <th class=\"col_heading level0 col4\" >Magnesium</th>        <th class=\"col_heading level0 col5\" >Total_phenols</th>        <th class=\"col_heading level0 col6\" >Flavanoids</th>        <th class=\"col_heading level0 col7\" >Nonflavanoid_phenols</th>        <th class=\"col_heading level0 col8\" >Proanthocyanins</th>        <th class=\"col_heading level0 col9\" >Color_intensity</th>        <th class=\"col_heading level0 col10\" >Hue</th>        <th class=\"col_heading level0 col11\" >OD280/OD315_of_diluted_wines</th>        <th class=\"col_heading level0 col12\" >Proline</th>    </tr></thead><tbody>\n",
              "                <tr>\n",
              "                        <th id=\"T_f13ab3da_3e3d_11eb_9820_0242ac1c0002level0_row0\" class=\"row_heading level0 row0\" >Alcohol</th>\n",
              "                        <td id=\"T_f13ab3da_3e3d_11eb_9820_0242ac1c0002row0_col0\" class=\"data row0 col0\" >1.000000</td>\n",
              "                        <td id=\"T_f13ab3da_3e3d_11eb_9820_0242ac1c0002row0_col1\" class=\"data row0 col1\" >0.094397</td>\n",
              "                        <td id=\"T_f13ab3da_3e3d_11eb_9820_0242ac1c0002row0_col2\" class=\"data row0 col2\" >0.211545</td>\n",
              "                        <td id=\"T_f13ab3da_3e3d_11eb_9820_0242ac1c0002row0_col3\" class=\"data row0 col3\" >-0.310235</td>\n",
              "                        <td id=\"T_f13ab3da_3e3d_11eb_9820_0242ac1c0002row0_col4\" class=\"data row0 col4\" >0.270798</td>\n",
              "                        <td id=\"T_f13ab3da_3e3d_11eb_9820_0242ac1c0002row0_col5\" class=\"data row0 col5\" >0.289101</td>\n",
              "                        <td id=\"T_f13ab3da_3e3d_11eb_9820_0242ac1c0002row0_col6\" class=\"data row0 col6\" >0.236815</td>\n",
              "                        <td id=\"T_f13ab3da_3e3d_11eb_9820_0242ac1c0002row0_col7\" class=\"data row0 col7\" >-0.155929</td>\n",
              "                        <td id=\"T_f13ab3da_3e3d_11eb_9820_0242ac1c0002row0_col8\" class=\"data row0 col8\" >0.136698</td>\n",
              "                        <td id=\"T_f13ab3da_3e3d_11eb_9820_0242ac1c0002row0_col9\" class=\"data row0 col9\" >0.546364</td>\n",
              "                        <td id=\"T_f13ab3da_3e3d_11eb_9820_0242ac1c0002row0_col10\" class=\"data row0 col10\" >-0.071747</td>\n",
              "                        <td id=\"T_f13ab3da_3e3d_11eb_9820_0242ac1c0002row0_col11\" class=\"data row0 col11\" >0.072343</td>\n",
              "                        <td id=\"T_f13ab3da_3e3d_11eb_9820_0242ac1c0002row0_col12\" class=\"data row0 col12\" >0.643720</td>\n",
              "            </tr>\n",
              "            <tr>\n",
              "                        <th id=\"T_f13ab3da_3e3d_11eb_9820_0242ac1c0002level0_row1\" class=\"row_heading level0 row1\" >Malic_acid</th>\n",
              "                        <td id=\"T_f13ab3da_3e3d_11eb_9820_0242ac1c0002row1_col0\" class=\"data row1 col0\" >0.094397</td>\n",
              "                        <td id=\"T_f13ab3da_3e3d_11eb_9820_0242ac1c0002row1_col1\" class=\"data row1 col1\" >1.000000</td>\n",
              "                        <td id=\"T_f13ab3da_3e3d_11eb_9820_0242ac1c0002row1_col2\" class=\"data row1 col2\" >0.164045</td>\n",
              "                        <td id=\"T_f13ab3da_3e3d_11eb_9820_0242ac1c0002row1_col3\" class=\"data row1 col3\" >0.288500</td>\n",
              "                        <td id=\"T_f13ab3da_3e3d_11eb_9820_0242ac1c0002row1_col4\" class=\"data row1 col4\" >-0.054575</td>\n",
              "                        <td id=\"T_f13ab3da_3e3d_11eb_9820_0242ac1c0002row1_col5\" class=\"data row1 col5\" >-0.335167</td>\n",
              "                        <td id=\"T_f13ab3da_3e3d_11eb_9820_0242ac1c0002row1_col6\" class=\"data row1 col6\" >-0.411007</td>\n",
              "                        <td id=\"T_f13ab3da_3e3d_11eb_9820_0242ac1c0002row1_col7\" class=\"data row1 col7\" >0.292977</td>\n",
              "                        <td id=\"T_f13ab3da_3e3d_11eb_9820_0242ac1c0002row1_col8\" class=\"data row1 col8\" >-0.220746</td>\n",
              "                        <td id=\"T_f13ab3da_3e3d_11eb_9820_0242ac1c0002row1_col9\" class=\"data row1 col9\" >0.248985</td>\n",
              "                        <td id=\"T_f13ab3da_3e3d_11eb_9820_0242ac1c0002row1_col10\" class=\"data row1 col10\" >-0.561296</td>\n",
              "                        <td id=\"T_f13ab3da_3e3d_11eb_9820_0242ac1c0002row1_col11\" class=\"data row1 col11\" >-0.368710</td>\n",
              "                        <td id=\"T_f13ab3da_3e3d_11eb_9820_0242ac1c0002row1_col12\" class=\"data row1 col12\" >-0.192011</td>\n",
              "            </tr>\n",
              "            <tr>\n",
              "                        <th id=\"T_f13ab3da_3e3d_11eb_9820_0242ac1c0002level0_row2\" class=\"row_heading level0 row2\" >Ash</th>\n",
              "                        <td id=\"T_f13ab3da_3e3d_11eb_9820_0242ac1c0002row2_col0\" class=\"data row2 col0\" >0.211545</td>\n",
              "                        <td id=\"T_f13ab3da_3e3d_11eb_9820_0242ac1c0002row2_col1\" class=\"data row2 col1\" >0.164045</td>\n",
              "                        <td id=\"T_f13ab3da_3e3d_11eb_9820_0242ac1c0002row2_col2\" class=\"data row2 col2\" >1.000000</td>\n",
              "                        <td id=\"T_f13ab3da_3e3d_11eb_9820_0242ac1c0002row2_col3\" class=\"data row2 col3\" >0.443367</td>\n",
              "                        <td id=\"T_f13ab3da_3e3d_11eb_9820_0242ac1c0002row2_col4\" class=\"data row2 col4\" >0.286587</td>\n",
              "                        <td id=\"T_f13ab3da_3e3d_11eb_9820_0242ac1c0002row2_col5\" class=\"data row2 col5\" >0.128980</td>\n",
              "                        <td id=\"T_f13ab3da_3e3d_11eb_9820_0242ac1c0002row2_col6\" class=\"data row2 col6\" >0.115077</td>\n",
              "                        <td id=\"T_f13ab3da_3e3d_11eb_9820_0242ac1c0002row2_col7\" class=\"data row2 col7\" >0.186230</td>\n",
              "                        <td id=\"T_f13ab3da_3e3d_11eb_9820_0242ac1c0002row2_col8\" class=\"data row2 col8\" >0.009652</td>\n",
              "                        <td id=\"T_f13ab3da_3e3d_11eb_9820_0242ac1c0002row2_col9\" class=\"data row2 col9\" >0.258887</td>\n",
              "                        <td id=\"T_f13ab3da_3e3d_11eb_9820_0242ac1c0002row2_col10\" class=\"data row2 col10\" >-0.074667</td>\n",
              "                        <td id=\"T_f13ab3da_3e3d_11eb_9820_0242ac1c0002row2_col11\" class=\"data row2 col11\" >0.003911</td>\n",
              "                        <td id=\"T_f13ab3da_3e3d_11eb_9820_0242ac1c0002row2_col12\" class=\"data row2 col12\" >0.223626</td>\n",
              "            </tr>\n",
              "            <tr>\n",
              "                        <th id=\"T_f13ab3da_3e3d_11eb_9820_0242ac1c0002level0_row3\" class=\"row_heading level0 row3\" >Alcalinity_of_ash</th>\n",
              "                        <td id=\"T_f13ab3da_3e3d_11eb_9820_0242ac1c0002row3_col0\" class=\"data row3 col0\" >-0.310235</td>\n",
              "                        <td id=\"T_f13ab3da_3e3d_11eb_9820_0242ac1c0002row3_col1\" class=\"data row3 col1\" >0.288500</td>\n",
              "                        <td id=\"T_f13ab3da_3e3d_11eb_9820_0242ac1c0002row3_col2\" class=\"data row3 col2\" >0.443367</td>\n",
              "                        <td id=\"T_f13ab3da_3e3d_11eb_9820_0242ac1c0002row3_col3\" class=\"data row3 col3\" >1.000000</td>\n",
              "                        <td id=\"T_f13ab3da_3e3d_11eb_9820_0242ac1c0002row3_col4\" class=\"data row3 col4\" >-0.083333</td>\n",
              "                        <td id=\"T_f13ab3da_3e3d_11eb_9820_0242ac1c0002row3_col5\" class=\"data row3 col5\" >-0.321113</td>\n",
              "                        <td id=\"T_f13ab3da_3e3d_11eb_9820_0242ac1c0002row3_col6\" class=\"data row3 col6\" >-0.351370</td>\n",
              "                        <td id=\"T_f13ab3da_3e3d_11eb_9820_0242ac1c0002row3_col7\" class=\"data row3 col7\" >0.361922</td>\n",
              "                        <td id=\"T_f13ab3da_3e3d_11eb_9820_0242ac1c0002row3_col8\" class=\"data row3 col8\" >-0.197327</td>\n",
              "                        <td id=\"T_f13ab3da_3e3d_11eb_9820_0242ac1c0002row3_col9\" class=\"data row3 col9\" >0.018732</td>\n",
              "                        <td id=\"T_f13ab3da_3e3d_11eb_9820_0242ac1c0002row3_col10\" class=\"data row3 col10\" >-0.273955</td>\n",
              "                        <td id=\"T_f13ab3da_3e3d_11eb_9820_0242ac1c0002row3_col11\" class=\"data row3 col11\" >-0.276769</td>\n",
              "                        <td id=\"T_f13ab3da_3e3d_11eb_9820_0242ac1c0002row3_col12\" class=\"data row3 col12\" >-0.440597</td>\n",
              "            </tr>\n",
              "            <tr>\n",
              "                        <th id=\"T_f13ab3da_3e3d_11eb_9820_0242ac1c0002level0_row4\" class=\"row_heading level0 row4\" >Magnesium</th>\n",
              "                        <td id=\"T_f13ab3da_3e3d_11eb_9820_0242ac1c0002row4_col0\" class=\"data row4 col0\" >0.270798</td>\n",
              "                        <td id=\"T_f13ab3da_3e3d_11eb_9820_0242ac1c0002row4_col1\" class=\"data row4 col1\" >-0.054575</td>\n",
              "                        <td id=\"T_f13ab3da_3e3d_11eb_9820_0242ac1c0002row4_col2\" class=\"data row4 col2\" >0.286587</td>\n",
              "                        <td id=\"T_f13ab3da_3e3d_11eb_9820_0242ac1c0002row4_col3\" class=\"data row4 col3\" >-0.083333</td>\n",
              "                        <td id=\"T_f13ab3da_3e3d_11eb_9820_0242ac1c0002row4_col4\" class=\"data row4 col4\" >1.000000</td>\n",
              "                        <td id=\"T_f13ab3da_3e3d_11eb_9820_0242ac1c0002row4_col5\" class=\"data row4 col5\" >0.214401</td>\n",
              "                        <td id=\"T_f13ab3da_3e3d_11eb_9820_0242ac1c0002row4_col6\" class=\"data row4 col6\" >0.195784</td>\n",
              "                        <td id=\"T_f13ab3da_3e3d_11eb_9820_0242ac1c0002row4_col7\" class=\"data row4 col7\" >-0.256294</td>\n",
              "                        <td id=\"T_f13ab3da_3e3d_11eb_9820_0242ac1c0002row4_col8\" class=\"data row4 col8\" >0.236441</td>\n",
              "                        <td id=\"T_f13ab3da_3e3d_11eb_9820_0242ac1c0002row4_col9\" class=\"data row4 col9\" >0.199950</td>\n",
              "                        <td id=\"T_f13ab3da_3e3d_11eb_9820_0242ac1c0002row4_col10\" class=\"data row4 col10\" >0.055398</td>\n",
              "                        <td id=\"T_f13ab3da_3e3d_11eb_9820_0242ac1c0002row4_col11\" class=\"data row4 col11\" >0.066004</td>\n",
              "                        <td id=\"T_f13ab3da_3e3d_11eb_9820_0242ac1c0002row4_col12\" class=\"data row4 col12\" >0.393351</td>\n",
              "            </tr>\n",
              "            <tr>\n",
              "                        <th id=\"T_f13ab3da_3e3d_11eb_9820_0242ac1c0002level0_row5\" class=\"row_heading level0 row5\" >Total_phenols</th>\n",
              "                        <td id=\"T_f13ab3da_3e3d_11eb_9820_0242ac1c0002row5_col0\" class=\"data row5 col0\" >0.289101</td>\n",
              "                        <td id=\"T_f13ab3da_3e3d_11eb_9820_0242ac1c0002row5_col1\" class=\"data row5 col1\" >-0.335167</td>\n",
              "                        <td id=\"T_f13ab3da_3e3d_11eb_9820_0242ac1c0002row5_col2\" class=\"data row5 col2\" >0.128980</td>\n",
              "                        <td id=\"T_f13ab3da_3e3d_11eb_9820_0242ac1c0002row5_col3\" class=\"data row5 col3\" >-0.321113</td>\n",
              "                        <td id=\"T_f13ab3da_3e3d_11eb_9820_0242ac1c0002row5_col4\" class=\"data row5 col4\" >0.214401</td>\n",
              "                        <td id=\"T_f13ab3da_3e3d_11eb_9820_0242ac1c0002row5_col5\" class=\"data row5 col5\" >1.000000</td>\n",
              "                        <td id=\"T_f13ab3da_3e3d_11eb_9820_0242ac1c0002row5_col6\" class=\"data row5 col6\" >0.864564</td>\n",
              "                        <td id=\"T_f13ab3da_3e3d_11eb_9820_0242ac1c0002row5_col7\" class=\"data row5 col7\" >-0.449935</td>\n",
              "                        <td id=\"T_f13ab3da_3e3d_11eb_9820_0242ac1c0002row5_col8\" class=\"data row5 col8\" >0.612413</td>\n",
              "                        <td id=\"T_f13ab3da_3e3d_11eb_9820_0242ac1c0002row5_col9\" class=\"data row5 col9\" >-0.055136</td>\n",
              "                        <td id=\"T_f13ab3da_3e3d_11eb_9820_0242ac1c0002row5_col10\" class=\"data row5 col10\" >0.433681</td>\n",
              "                        <td id=\"T_f13ab3da_3e3d_11eb_9820_0242ac1c0002row5_col11\" class=\"data row5 col11\" >0.699949</td>\n",
              "                        <td id=\"T_f13ab3da_3e3d_11eb_9820_0242ac1c0002row5_col12\" class=\"data row5 col12\" >0.498115</td>\n",
              "            </tr>\n",
              "            <tr>\n",
              "                        <th id=\"T_f13ab3da_3e3d_11eb_9820_0242ac1c0002level0_row6\" class=\"row_heading level0 row6\" >Flavanoids</th>\n",
              "                        <td id=\"T_f13ab3da_3e3d_11eb_9820_0242ac1c0002row6_col0\" class=\"data row6 col0\" >0.236815</td>\n",
              "                        <td id=\"T_f13ab3da_3e3d_11eb_9820_0242ac1c0002row6_col1\" class=\"data row6 col1\" >-0.411007</td>\n",
              "                        <td id=\"T_f13ab3da_3e3d_11eb_9820_0242ac1c0002row6_col2\" class=\"data row6 col2\" >0.115077</td>\n",
              "                        <td id=\"T_f13ab3da_3e3d_11eb_9820_0242ac1c0002row6_col3\" class=\"data row6 col3\" >-0.351370</td>\n",
              "                        <td id=\"T_f13ab3da_3e3d_11eb_9820_0242ac1c0002row6_col4\" class=\"data row6 col4\" >0.195784</td>\n",
              "                        <td id=\"T_f13ab3da_3e3d_11eb_9820_0242ac1c0002row6_col5\" class=\"data row6 col5\" >0.864564</td>\n",
              "                        <td id=\"T_f13ab3da_3e3d_11eb_9820_0242ac1c0002row6_col6\" class=\"data row6 col6\" >1.000000</td>\n",
              "                        <td id=\"T_f13ab3da_3e3d_11eb_9820_0242ac1c0002row6_col7\" class=\"data row6 col7\" >-0.537900</td>\n",
              "                        <td id=\"T_f13ab3da_3e3d_11eb_9820_0242ac1c0002row6_col8\" class=\"data row6 col8\" >0.652692</td>\n",
              "                        <td id=\"T_f13ab3da_3e3d_11eb_9820_0242ac1c0002row6_col9\" class=\"data row6 col9\" >-0.172379</td>\n",
              "                        <td id=\"T_f13ab3da_3e3d_11eb_9820_0242ac1c0002row6_col10\" class=\"data row6 col10\" >0.543479</td>\n",
              "                        <td id=\"T_f13ab3da_3e3d_11eb_9820_0242ac1c0002row6_col11\" class=\"data row6 col11\" >0.787194</td>\n",
              "                        <td id=\"T_f13ab3da_3e3d_11eb_9820_0242ac1c0002row6_col12\" class=\"data row6 col12\" >0.494193</td>\n",
              "            </tr>\n",
              "            <tr>\n",
              "                        <th id=\"T_f13ab3da_3e3d_11eb_9820_0242ac1c0002level0_row7\" class=\"row_heading level0 row7\" >Nonflavanoid_phenols</th>\n",
              "                        <td id=\"T_f13ab3da_3e3d_11eb_9820_0242ac1c0002row7_col0\" class=\"data row7 col0\" >-0.155929</td>\n",
              "                        <td id=\"T_f13ab3da_3e3d_11eb_9820_0242ac1c0002row7_col1\" class=\"data row7 col1\" >0.292977</td>\n",
              "                        <td id=\"T_f13ab3da_3e3d_11eb_9820_0242ac1c0002row7_col2\" class=\"data row7 col2\" >0.186230</td>\n",
              "                        <td id=\"T_f13ab3da_3e3d_11eb_9820_0242ac1c0002row7_col3\" class=\"data row7 col3\" >0.361922</td>\n",
              "                        <td id=\"T_f13ab3da_3e3d_11eb_9820_0242ac1c0002row7_col4\" class=\"data row7 col4\" >-0.256294</td>\n",
              "                        <td id=\"T_f13ab3da_3e3d_11eb_9820_0242ac1c0002row7_col5\" class=\"data row7 col5\" >-0.449935</td>\n",
              "                        <td id=\"T_f13ab3da_3e3d_11eb_9820_0242ac1c0002row7_col6\" class=\"data row7 col6\" >-0.537900</td>\n",
              "                        <td id=\"T_f13ab3da_3e3d_11eb_9820_0242ac1c0002row7_col7\" class=\"data row7 col7\" >1.000000</td>\n",
              "                        <td id=\"T_f13ab3da_3e3d_11eb_9820_0242ac1c0002row7_col8\" class=\"data row7 col8\" >-0.365845</td>\n",
              "                        <td id=\"T_f13ab3da_3e3d_11eb_9820_0242ac1c0002row7_col9\" class=\"data row7 col9\" >0.139057</td>\n",
              "                        <td id=\"T_f13ab3da_3e3d_11eb_9820_0242ac1c0002row7_col10\" class=\"data row7 col10\" >-0.262640</td>\n",
              "                        <td id=\"T_f13ab3da_3e3d_11eb_9820_0242ac1c0002row7_col11\" class=\"data row7 col11\" >-0.503270</td>\n",
              "                        <td id=\"T_f13ab3da_3e3d_11eb_9820_0242ac1c0002row7_col12\" class=\"data row7 col12\" >-0.311385</td>\n",
              "            </tr>\n",
              "            <tr>\n",
              "                        <th id=\"T_f13ab3da_3e3d_11eb_9820_0242ac1c0002level0_row8\" class=\"row_heading level0 row8\" >Proanthocyanins</th>\n",
              "                        <td id=\"T_f13ab3da_3e3d_11eb_9820_0242ac1c0002row8_col0\" class=\"data row8 col0\" >0.136698</td>\n",
              "                        <td id=\"T_f13ab3da_3e3d_11eb_9820_0242ac1c0002row8_col1\" class=\"data row8 col1\" >-0.220746</td>\n",
              "                        <td id=\"T_f13ab3da_3e3d_11eb_9820_0242ac1c0002row8_col2\" class=\"data row8 col2\" >0.009652</td>\n",
              "                        <td id=\"T_f13ab3da_3e3d_11eb_9820_0242ac1c0002row8_col3\" class=\"data row8 col3\" >-0.197327</td>\n",
              "                        <td id=\"T_f13ab3da_3e3d_11eb_9820_0242ac1c0002row8_col4\" class=\"data row8 col4\" >0.236441</td>\n",
              "                        <td id=\"T_f13ab3da_3e3d_11eb_9820_0242ac1c0002row8_col5\" class=\"data row8 col5\" >0.612413</td>\n",
              "                        <td id=\"T_f13ab3da_3e3d_11eb_9820_0242ac1c0002row8_col6\" class=\"data row8 col6\" >0.652692</td>\n",
              "                        <td id=\"T_f13ab3da_3e3d_11eb_9820_0242ac1c0002row8_col7\" class=\"data row8 col7\" >-0.365845</td>\n",
              "                        <td id=\"T_f13ab3da_3e3d_11eb_9820_0242ac1c0002row8_col8\" class=\"data row8 col8\" >1.000000</td>\n",
              "                        <td id=\"T_f13ab3da_3e3d_11eb_9820_0242ac1c0002row8_col9\" class=\"data row8 col9\" >-0.025250</td>\n",
              "                        <td id=\"T_f13ab3da_3e3d_11eb_9820_0242ac1c0002row8_col10\" class=\"data row8 col10\" >0.295544</td>\n",
              "                        <td id=\"T_f13ab3da_3e3d_11eb_9820_0242ac1c0002row8_col11\" class=\"data row8 col11\" >0.519067</td>\n",
              "                        <td id=\"T_f13ab3da_3e3d_11eb_9820_0242ac1c0002row8_col12\" class=\"data row8 col12\" >0.330417</td>\n",
              "            </tr>\n",
              "            <tr>\n",
              "                        <th id=\"T_f13ab3da_3e3d_11eb_9820_0242ac1c0002level0_row9\" class=\"row_heading level0 row9\" >Color_intensity</th>\n",
              "                        <td id=\"T_f13ab3da_3e3d_11eb_9820_0242ac1c0002row9_col0\" class=\"data row9 col0\" >0.546364</td>\n",
              "                        <td id=\"T_f13ab3da_3e3d_11eb_9820_0242ac1c0002row9_col1\" class=\"data row9 col1\" >0.248985</td>\n",
              "                        <td id=\"T_f13ab3da_3e3d_11eb_9820_0242ac1c0002row9_col2\" class=\"data row9 col2\" >0.258887</td>\n",
              "                        <td id=\"T_f13ab3da_3e3d_11eb_9820_0242ac1c0002row9_col3\" class=\"data row9 col3\" >0.018732</td>\n",
              "                        <td id=\"T_f13ab3da_3e3d_11eb_9820_0242ac1c0002row9_col4\" class=\"data row9 col4\" >0.199950</td>\n",
              "                        <td id=\"T_f13ab3da_3e3d_11eb_9820_0242ac1c0002row9_col5\" class=\"data row9 col5\" >-0.055136</td>\n",
              "                        <td id=\"T_f13ab3da_3e3d_11eb_9820_0242ac1c0002row9_col6\" class=\"data row9 col6\" >-0.172379</td>\n",
              "                        <td id=\"T_f13ab3da_3e3d_11eb_9820_0242ac1c0002row9_col7\" class=\"data row9 col7\" >0.139057</td>\n",
              "                        <td id=\"T_f13ab3da_3e3d_11eb_9820_0242ac1c0002row9_col8\" class=\"data row9 col8\" >-0.025250</td>\n",
              "                        <td id=\"T_f13ab3da_3e3d_11eb_9820_0242ac1c0002row9_col9\" class=\"data row9 col9\" >1.000000</td>\n",
              "                        <td id=\"T_f13ab3da_3e3d_11eb_9820_0242ac1c0002row9_col10\" class=\"data row9 col10\" >-0.521813</td>\n",
              "                        <td id=\"T_f13ab3da_3e3d_11eb_9820_0242ac1c0002row9_col11\" class=\"data row9 col11\" >-0.428815</td>\n",
              "                        <td id=\"T_f13ab3da_3e3d_11eb_9820_0242ac1c0002row9_col12\" class=\"data row9 col12\" >0.316100</td>\n",
              "            </tr>\n",
              "            <tr>\n",
              "                        <th id=\"T_f13ab3da_3e3d_11eb_9820_0242ac1c0002level0_row10\" class=\"row_heading level0 row10\" >Hue</th>\n",
              "                        <td id=\"T_f13ab3da_3e3d_11eb_9820_0242ac1c0002row10_col0\" class=\"data row10 col0\" >-0.071747</td>\n",
              "                        <td id=\"T_f13ab3da_3e3d_11eb_9820_0242ac1c0002row10_col1\" class=\"data row10 col1\" >-0.561296</td>\n",
              "                        <td id=\"T_f13ab3da_3e3d_11eb_9820_0242ac1c0002row10_col2\" class=\"data row10 col2\" >-0.074667</td>\n",
              "                        <td id=\"T_f13ab3da_3e3d_11eb_9820_0242ac1c0002row10_col3\" class=\"data row10 col3\" >-0.273955</td>\n",
              "                        <td id=\"T_f13ab3da_3e3d_11eb_9820_0242ac1c0002row10_col4\" class=\"data row10 col4\" >0.055398</td>\n",
              "                        <td id=\"T_f13ab3da_3e3d_11eb_9820_0242ac1c0002row10_col5\" class=\"data row10 col5\" >0.433681</td>\n",
              "                        <td id=\"T_f13ab3da_3e3d_11eb_9820_0242ac1c0002row10_col6\" class=\"data row10 col6\" >0.543479</td>\n",
              "                        <td id=\"T_f13ab3da_3e3d_11eb_9820_0242ac1c0002row10_col7\" class=\"data row10 col7\" >-0.262640</td>\n",
              "                        <td id=\"T_f13ab3da_3e3d_11eb_9820_0242ac1c0002row10_col8\" class=\"data row10 col8\" >0.295544</td>\n",
              "                        <td id=\"T_f13ab3da_3e3d_11eb_9820_0242ac1c0002row10_col9\" class=\"data row10 col9\" >-0.521813</td>\n",
              "                        <td id=\"T_f13ab3da_3e3d_11eb_9820_0242ac1c0002row10_col10\" class=\"data row10 col10\" >1.000000</td>\n",
              "                        <td id=\"T_f13ab3da_3e3d_11eb_9820_0242ac1c0002row10_col11\" class=\"data row10 col11\" >0.565468</td>\n",
              "                        <td id=\"T_f13ab3da_3e3d_11eb_9820_0242ac1c0002row10_col12\" class=\"data row10 col12\" >0.236183</td>\n",
              "            </tr>\n",
              "            <tr>\n",
              "                        <th id=\"T_f13ab3da_3e3d_11eb_9820_0242ac1c0002level0_row11\" class=\"row_heading level0 row11\" >OD280/OD315_of_diluted_wines</th>\n",
              "                        <td id=\"T_f13ab3da_3e3d_11eb_9820_0242ac1c0002row11_col0\" class=\"data row11 col0\" >0.072343</td>\n",
              "                        <td id=\"T_f13ab3da_3e3d_11eb_9820_0242ac1c0002row11_col1\" class=\"data row11 col1\" >-0.368710</td>\n",
              "                        <td id=\"T_f13ab3da_3e3d_11eb_9820_0242ac1c0002row11_col2\" class=\"data row11 col2\" >0.003911</td>\n",
              "                        <td id=\"T_f13ab3da_3e3d_11eb_9820_0242ac1c0002row11_col3\" class=\"data row11 col3\" >-0.276769</td>\n",
              "                        <td id=\"T_f13ab3da_3e3d_11eb_9820_0242ac1c0002row11_col4\" class=\"data row11 col4\" >0.066004</td>\n",
              "                        <td id=\"T_f13ab3da_3e3d_11eb_9820_0242ac1c0002row11_col5\" class=\"data row11 col5\" >0.699949</td>\n",
              "                        <td id=\"T_f13ab3da_3e3d_11eb_9820_0242ac1c0002row11_col6\" class=\"data row11 col6\" >0.787194</td>\n",
              "                        <td id=\"T_f13ab3da_3e3d_11eb_9820_0242ac1c0002row11_col7\" class=\"data row11 col7\" >-0.503270</td>\n",
              "                        <td id=\"T_f13ab3da_3e3d_11eb_9820_0242ac1c0002row11_col8\" class=\"data row11 col8\" >0.519067</td>\n",
              "                        <td id=\"T_f13ab3da_3e3d_11eb_9820_0242ac1c0002row11_col9\" class=\"data row11 col9\" >-0.428815</td>\n",
              "                        <td id=\"T_f13ab3da_3e3d_11eb_9820_0242ac1c0002row11_col10\" class=\"data row11 col10\" >0.565468</td>\n",
              "                        <td id=\"T_f13ab3da_3e3d_11eb_9820_0242ac1c0002row11_col11\" class=\"data row11 col11\" >1.000000</td>\n",
              "                        <td id=\"T_f13ab3da_3e3d_11eb_9820_0242ac1c0002row11_col12\" class=\"data row11 col12\" >0.312761</td>\n",
              "            </tr>\n",
              "            <tr>\n",
              "                        <th id=\"T_f13ab3da_3e3d_11eb_9820_0242ac1c0002level0_row12\" class=\"row_heading level0 row12\" >Proline</th>\n",
              "                        <td id=\"T_f13ab3da_3e3d_11eb_9820_0242ac1c0002row12_col0\" class=\"data row12 col0\" >0.643720</td>\n",
              "                        <td id=\"T_f13ab3da_3e3d_11eb_9820_0242ac1c0002row12_col1\" class=\"data row12 col1\" >-0.192011</td>\n",
              "                        <td id=\"T_f13ab3da_3e3d_11eb_9820_0242ac1c0002row12_col2\" class=\"data row12 col2\" >0.223626</td>\n",
              "                        <td id=\"T_f13ab3da_3e3d_11eb_9820_0242ac1c0002row12_col3\" class=\"data row12 col3\" >-0.440597</td>\n",
              "                        <td id=\"T_f13ab3da_3e3d_11eb_9820_0242ac1c0002row12_col4\" class=\"data row12 col4\" >0.393351</td>\n",
              "                        <td id=\"T_f13ab3da_3e3d_11eb_9820_0242ac1c0002row12_col5\" class=\"data row12 col5\" >0.498115</td>\n",
              "                        <td id=\"T_f13ab3da_3e3d_11eb_9820_0242ac1c0002row12_col6\" class=\"data row12 col6\" >0.494193</td>\n",
              "                        <td id=\"T_f13ab3da_3e3d_11eb_9820_0242ac1c0002row12_col7\" class=\"data row12 col7\" >-0.311385</td>\n",
              "                        <td id=\"T_f13ab3da_3e3d_11eb_9820_0242ac1c0002row12_col8\" class=\"data row12 col8\" >0.330417</td>\n",
              "                        <td id=\"T_f13ab3da_3e3d_11eb_9820_0242ac1c0002row12_col9\" class=\"data row12 col9\" >0.316100</td>\n",
              "                        <td id=\"T_f13ab3da_3e3d_11eb_9820_0242ac1c0002row12_col10\" class=\"data row12 col10\" >0.236183</td>\n",
              "                        <td id=\"T_f13ab3da_3e3d_11eb_9820_0242ac1c0002row12_col11\" class=\"data row12 col11\" >0.312761</td>\n",
              "                        <td id=\"T_f13ab3da_3e3d_11eb_9820_0242ac1c0002row12_col12\" class=\"data row12 col12\" >1.000000</td>\n",
              "            </tr>\n",
              "    </tbody></table>"
            ],
            "text/plain": [
              "<pandas.io.formats.style.Styler at 0x7f96c7db03c8>"
            ]
          },
          "metadata": {
            "tags": []
          },
          "execution_count": 7
        }
      ]
    },
    {
      "cell_type": "markdown",
      "metadata": {
        "id": "AYDyjXTpOKI6"
      },
      "source": [
        "Será necessário verificar se existe atributos faltantes em nossa base de dados."
      ]
    },
    {
      "cell_type": "code",
      "metadata": {
        "colab": {
          "base_uri": "https://localhost:8080/"
        },
        "id": "52TMSxKUyBMv",
        "outputId": "2b9165d7-435e-46f9-e415-2653e51d3cc2"
      },
      "source": [
        "#print('Valores faltantes:', df.isnull().sum()) #quantidade de valores faltantes para todos os atributos\n",
        "np.where(pd.isnull(df))"
      ],
      "execution_count": 8,
      "outputs": [
        {
          "output_type": "execute_result",
          "data": {
            "text/plain": [
              "(array([], dtype=int64), array([], dtype=int64))"
            ]
          },
          "metadata": {
            "tags": []
          },
          "execution_count": 8
        }
      ]
    },
    {
      "cell_type": "markdown",
      "metadata": {
        "id": "PKbCvL-VcWSi"
      },
      "source": [
        "Mas mesmo com a retirada de um atributo ainda temos 12 atributos restantes, logo devemos fazer a redução de dimensionalidade com PCA"
      ]
    },
    {
      "cell_type": "code",
      "metadata": {
        "colab": {
          "base_uri": "https://localhost:8080/"
        },
        "id": "bB4cXerqmnXV",
        "outputId": "a14ec463-060c-4095-fa0e-33d7bace222f"
      },
      "source": [
        "x = df.loc[:, wine_names].values\n",
        "x = StandardScaler().fit_transform(x)\n",
        "\n",
        "x"
      ],
      "execution_count": 9,
      "outputs": [
        {
          "output_type": "execute_result",
          "data": {
            "text/plain": [
              "array([[ 1.51861254, -0.5622498 ,  0.23205254, ...,  0.36217728,\n",
              "         1.84791957,  1.01300893],\n",
              "       [ 0.24628963, -0.49941338, -0.82799632, ...,  0.40605066,\n",
              "         1.1134493 ,  0.96524152],\n",
              "       [ 0.19687903,  0.02123125,  1.10933436, ...,  0.31830389,\n",
              "         0.78858745,  1.39514818],\n",
              "       ...,\n",
              "       [ 0.33275817,  1.74474449, -0.38935541, ..., -1.61212515,\n",
              "        -1.48544548,  0.28057537],\n",
              "       [ 0.20923168,  0.22769377,  0.01273209, ..., -1.56825176,\n",
              "        -1.40069891,  0.29649784],\n",
              "       [ 1.39508604,  1.58316512,  1.36520822, ..., -1.52437837,\n",
              "        -1.42894777, -0.59516041]])"
            ]
          },
          "metadata": {
            "tags": []
          },
          "execution_count": 9
        }
      ]
    },
    {
      "cell_type": "markdown",
      "metadata": {
        "id": "B5-sBQiam908"
      },
      "source": [
        "Agora devemos aplicar o PCA para reduzir para 2, as 12 dimensão dos dados."
      ]
    },
    {
      "cell_type": "code",
      "metadata": {
        "id": "RN7nSIcqcKid"
      },
      "source": [
        "from sklearn.preprocessing import StandardScaler\n",
        "#std_wine = StandardScaler().fit_transform(df) # normalizing the data \n",
        "pca = PCA(n_components=2)\n",
        "principalComponents = pca.fit_transform(x)\n",
        "principalDF = pd.DataFrame(data = principalComponents, columns = ['Componente Principal 1', 'Componente Principal 2'])"
      ],
      "execution_count": 12,
      "outputs": []
    },
    {
      "cell_type": "code",
      "metadata": {
        "colab": {
          "base_uri": "https://localhost:8080/",
          "height": 278
        },
        "id": "l2IJDfKrdGaH",
        "outputId": "50ad2177-5111-4864-e5d9-b999052d7524"
      },
      "source": [
        "# Plotting the variances for each PC\n",
        "PC = range(1, pca.n_components_+1)\n",
        "plt.bar(PC, pca.explained_variance_ratio_, color='gold')\n",
        "plt.xlabel('Principal Components')\n",
        "plt.ylabel('Variance %')\n",
        "plt.xticks(PC)\n",
        "\n",
        "# Putting components in a dataframe for later\n",
        "PCA_components = pd.DataFrame(principalComponents)"
      ],
      "execution_count": 13,
      "outputs": [
        {
          "output_type": "display_data",
          "data": {
            "image/png": "[encoded data removed]",
            "text/plain": [
              "<Figure size 432x288 with 1 Axes>"
            ]
          },
          "metadata": {
            "tags": [],
            "needs_background": "light"
          }
        }
      ]
    },
    {
      "cell_type": "code",
      "metadata": {
        "colab": {
          "base_uri": "https://localhost:8080/",
          "height": 304
        },
        "id": "VrXCRWk3dUo2",
        "outputId": "1956e425-a287-4bd9-9ec2-a9f9412da39c"
      },
      "source": [
        "plt.scatter(PCA_components[0], PCA_components[1], alpha=.3, color='black')\n",
        "plt.xlabel('PCA 1')\n",
        "plt.ylabel('PCA 2')\n",
        "plt.show()\n",
        "\n",
        "\n",
        "#plt.style.use('fivethirtyeight')\n",
        "#principalDF.plot.scatter(x = 'Componente Principal 1', y = 'Componente Principal 2', colormap='jet')\n",
        "#plt.xlabel('Componente Principal 1', fontsize = 9)\n",
        "#plt.ylabel('Componente Principal 2', fontsize = 9)"
      ],
      "execution_count": 16,
      "outputs": [
        {
          "output_type": "display_data",
          "data": {
            "image/png": "[encoded data removed]",
            "text/plain": [
              "<Figure size 432x288 with 1 Axes>"
            ]
          },
          "metadata": {
            "tags": []
          }
        }
      ]
    },
    {
      "cell_type": "markdown",
      "metadata": {
        "id": "Jey-vGrAnxKF"
      },
      "source": [
        "Utilizando o método do cotovelo, e a partir do seu gráfico podemos determinar a quantidade de clusters do dataset."
      ]
    },
    {
      "cell_type": "code",
      "metadata": {
        "id": "bKbdDY2h20yI"
      },
      "source": [
        "def optimal_number_of_clusters(wcss):\n",
        "    x1, y1 = 2, wcss[0]\n",
        "    x2, y2 = 20, wcss[len(wcss)-1]\n",
        "\n",
        "    distances = []\n",
        "    for i in range(len(wcss)):\n",
        "        x0 = i+2\n",
        "        y0 = wcss[i]\n",
        "        numerator = abs((y2-y1)*x0 - (x2-x1)*y0 + x2*y1 - y2*x1)\n",
        "        denominator = np.sqrt((y2 - y1)**2 + (x2 - x1)**2)\n",
        "        distances.append(numerator/denominator)\n",
        "    \n",
        "    return distances.index(max(distances)) + 2"
      ],
      "execution_count": 17,
      "outputs": []
    },
    {
      "cell_type": "code",
      "metadata": {
        "id": "n_kjZ3ok2wUe"
      },
      "source": [
        "def calculate_wcss(data):\n",
        "        wcss = []\n",
        "        for n in range(2, 21):\n",
        "            kmeans = KMeans(n_clusters=n)\n",
        "            kmeans.fit(X=data)\n",
        "            wcss.append(kmeans.inertia_)\n",
        "    \n",
        "        return wcss"
      ],
      "execution_count": 18,
      "outputs": []
    },
    {
      "cell_type": "code",
      "metadata": {
        "id": "G5YMPvxu2lyL"
      },
      "source": [
        "sum_of_squares = calculate_wcss(df)\n",
        "n = optimal_number_of_clusters(sum_of_squares)\n",
        "\n",
        "kmeans = KMeans(n_clusters=n)\n",
        "clusters = kmeans.fit_predict(df)\n",
        "x1, x2 = 2, 20\n",
        "intervalo = range(x1,x2+1)"
      ],
      "execution_count": 19,
      "outputs": []
    },
    {
      "cell_type": "code",
      "metadata": {
        "id": "BCX8kagY3Bx6",
        "colab": {
          "base_uri": "https://localhost:8080/",
          "height": 383
        },
        "outputId": "3ff45460-a47b-40a2-83f5-e6fc88d859e7"
      },
      "source": [
        "plt.figure(figsize=(15,5))\n",
        "plt.title('Método do cotovelo')\n",
        "plt.xlabel('Quantidade de clusters')\n",
        "plt.ylabel('Soma dos quadrados intra-clusters')\n",
        "plt.grid()\n",
        "plt.xticks(intervalo)\n",
        "plt.plot(intervalo, sum_of_squares) # pontos laranjas\n",
        "plt.plot(intervalo, sum_of_squares, '.') # linha azul\n",
        "for x,y in zip(intervalo,sum_of_squares): # colocando nome nos pontos\n",
        "    label = \"a{}\".format(x-2)\n",
        "    plt.annotate(label,\n",
        "                 (x,y),\n",
        "                 textcoords=\"offset points\",\n",
        "                 xytext=(-5,-10),\n",
        "                 ha='right')\n",
        "plt.show()"
      ],
      "execution_count": 20,
      "outputs": [
        {
          "output_type": "display_data",
          "data": {
            "image/png": "[encoded data removed]",
            "text/plain": [
              "<Figure size 1080x360 with 1 Axes>"
            ]
          },
          "metadata": {
            "tags": []
          }
        }
      ]
    },
    {
      "cell_type": "markdown",
      "metadata": {
        "id": "xTTRII_eDTTW"
      },
      "source": [
        "Aqui mostra que 3 clusters é o suficiente\n"
      ]
    },
    {
      "cell_type": "markdown",
      "metadata": {
        "id": "JogfBJzjoAHv"
      },
      "source": [
        "Aqui farei outro gráfico de cotovelo"
      ]
    },
    {
      "cell_type": "code",
      "metadata": {
        "id": "jy6nWPznF-ZN"
      },
      "source": [
        "X =df.values[:, 1:]\n",
        "Clus_dataset = StandardScaler().fit_transform(X)"
      ],
      "execution_count": 22,
      "outputs": []
    },
    {
      "cell_type": "code",
      "metadata": {
        "id": "Y9Fez95UJGx2",
        "colab": {
          "base_uri": "https://localhost:8080/",
          "height": 441
        },
        "outputId": "8128218a-c563-435f-d35c-5c4289fdd6af"
      },
      "source": [
        "wcss = []\n",
        "for i in range(1,11):\n",
        "    kmeans = KMeans(n_clusters=i,init='k-means++',max_iter=300, n_init=12, random_state=0)\n",
        "    kmeans.fit(X)\n",
        "    wcss.append(kmeans.inertia_)\n",
        "f3, ax = plt.subplots(figsize=(8, 6))\n",
        "plt.plot(range(1,11),wcss)\n",
        "plt.title('The Elbow Method')\n",
        "plt.xlabel('Number of clusters')\n",
        "plt.ylabel('WCSS')\n",
        "plt.show()"
      ],
      "execution_count": 23,
      "outputs": [
        {
          "output_type": "display_data",
          "data": {
            "image/png": "[encoded data removed]",
            "text/plain": [
              "<Figure size 576x432 with 1 Axes>"
            ]
          },
          "metadata": {
            "tags": []
          }
        }
      ]
    },
    {
      "cell_type": "markdown",
      "metadata": {
        "id": "kKQ2XGf_JSSE"
      },
      "source": [
        "A partir daqui, utilizando o dataset que foi tratado com as ferramentas de pré-processamento, e utilizamos  o método de elbow para determinar  k = 3 para o número de clusters."
      ]
    },
    {
      "cell_type": "code",
      "metadata": {
        "id": "y4Ns63yMJWEy",
        "colab": {
          "base_uri": "https://localhost:8080/"
        },
        "outputId": "99cd4e17-410a-4d23-f40b-fa4604e0e114"
      },
      "source": [
        "# build the model with the output from elbow method which is 3\n",
        "clusterNum = 3\n",
        "k_means =KMeans(init='k-means++', n_clusters=clusterNum, n_init=12)\n",
        "k_means.fit(X)\n",
        "labels = k_means.labels_\n",
        "print(labels)"
      ],
      "execution_count": 24,
      "outputs": [
        {
          "output_type": "stream",
          "text": [
            "[1 1 1 1 0 1 1 1 1 1 1 1 1 1 1 1 1 1 1 0 0 0 1 1 0 0 1 1 0 1 1 1 1 1 1 0 0\n",
            " 1 1 0 0 1 1 0 0 1 1 1 1 1 1 1 1 1 1 1 1 1 1 2 0 2 0 2 2 0 2 2 0 0 0 2 2 1\n",
            " 0 2 2 2 0 2 2 0 0 2 2 2 2 2 0 0 2 2 2 2 2 0 0 2 0 2 0 2 2 2 0 2 2 2 2 0 2\n",
            " 2 0 2 2 2 2 2 2 2 0 2 2 2 2 2 2 2 2 2 0 2 2 0 0 0 0 2 2 2 0 0 2 2 0 0 2 0\n",
            " 0 2 2 2 2 0 0 0 2 0 0 0 2 0 2 0 0 2 0 0 0 0 2 2 0 0 0 0 0 2]\n"
          ],
          "name": "stdout"
        }
      ]
    },
    {
      "cell_type": "code",
      "metadata": {
        "id": "AElK7wTIJc4e",
        "colab": {
          "base_uri": "https://localhost:8080/"
        },
        "outputId": "9b9fd6f8-15a6-4374-fb21-c672041da8bf"
      },
      "source": [
        "# We assign the labels to each row in dataframe.\n",
        "df['Clus_km'] = labels\n",
        "print(df.head())\n",
        "\n",
        "print(df.groupby('Clus_km').mean())"
      ],
      "execution_count": 25,
      "outputs": [
        {
          "output_type": "stream",
          "text": [
            "   Alcohol  Malic_acid   Ash  ...  OD280/OD315_of_diluted_wines  Proline  Clus_km\n",
            "0    14.23        1.71  2.43  ...                          3.92     1065        1\n",
            "1    13.20        1.78  2.14  ...                          3.40     1050        1\n",
            "2    13.16        2.36  2.67  ...                          3.17     1185        1\n",
            "3    14.37        1.95  2.50  ...                          3.45     1480        1\n",
            "4    13.24        2.59  2.87  ...                          2.93      735        0\n",
            "\n",
            "[5 rows x 14 columns]\n",
            "           Alcohol  Malic_acid  ...  OD280/OD315_of_diluted_wines      Proline\n",
            "Clus_km                         ...                                           \n",
            "0        12.929839    2.504032  ...                      2.365484   728.338710\n",
            "1        13.804468    1.883404  ...                      3.114043  1195.148936\n",
            "2        12.516667    2.494203  ...                      2.490725   458.231884\n",
            "\n",
            "[3 rows x 13 columns]\n"
          ],
          "name": "stdout"
        }
      ]
    },
    {
      "cell_type": "code",
      "metadata": {
        "colab": {
          "base_uri": "https://localhost:8080/",
          "height": 475
        },
        "id": "AzBj8c1xpKJp",
        "outputId": "243fe24c-9499-493d-ee46-83e12832566c"
      },
      "source": [
        "kmeans = KMeans(n_clusters=3, init = 'k-means++', n_init = 10, max_iter = 300, random_state = 1234).fit(principalDF.iloc[:,[0,1]])\n",
        "centroids_df = pd.DataFrame(kmeans.cluster_centers_, columns = list(principalDF.iloc[:,[0,1]].columns.values))\n",
        "\n",
        "print('- As coordenadas dos centroides são as seguintes:\\n')\n",
        "print(centroids_df, '\\n')\n",
        "print('- Abaixo podemos ver de forma gráfica a divisão das instâncias nos 3 clusters e seus centroides.\\n')\n",
        "\n",
        "plt.style.use('fivethirtyeight')\n",
        "fig, ax = plt.subplots(1, 1)\n",
        "principalDF.plot.scatter(x = 'Componente Principal 1', y = 'Componente Principal 2', c= kmeans.labels_, colormap='jet', ax=ax, mark_right=False)\n",
        "centroids_df.plot.scatter(x = 'Componente Principal 1', y = 'Componente Principal 2', ax = ax,  s = 200, mark_right=False, color=['red'])"
      ],
      "execution_count": 34,
      "outputs": [
        {
          "output_type": "stream",
          "text": [
            "- As coordenadas dos centroides são as seguintes:\n",
            "\n",
            "   Componente Principal 1  Componente Principal 2\n",
            "0                2.288882               -0.959947\n",
            "1               -0.076018                1.736061\n",
            "2               -2.743930               -1.214191 \n",
            "\n",
            "- Abaixo podemos ver de forma gráfica a divisão das instâncias nos 3 clusters e seus centroides.\n",
            "\n"
          ],
          "name": "stdout"
        },
        {
          "output_type": "execute_result",
          "data": {
            "text/plain": [
              "<matplotlib.axes._subplots.AxesSubplot at 0x7f96c3543fd0>"
            ]
          },
          "metadata": {
            "tags": []
          },
          "execution_count": 34
        },
        {
          "output_type": "display_data",
          "data": {
            "image/png": "[encoded data removed]",
            "text/plain": [
              "<Figure size 432x288 with 2 Axes>"
            ]
          },
          "metadata": {
            "tags": []
          }
        }
      ]
    },
    {
      "cell_type": "markdown",
      "metadata": {
        "id": "B24EYsH2-dIR"
      },
      "source": [
        "# Hierarquico\n",
        "\n",
        "Na questão solicita que façamos a utilização de dois algoritmos."
      ]
    },
    {
      "cell_type": "markdown",
      "metadata": {
        "id": "0KquPzKIkI4A"
      },
      "source": [
        "Chamada do dataset que iremos utilizar"
      ]
    },
    {
      "cell_type": "code",
      "metadata": {
        "id": "tUx-zzJKUQby",
        "colab": {
          "base_uri": "https://localhost:8080/"
        },
        "outputId": "d66f0c12-d29d-433d-89ed-0a72e4d5d15d"
      },
      "source": [
        "from scipy.spatial import distance_matrix\n",
        "print(pd.DataFrame(distance_matrix(principalDF.values, principalDF.values), index=df.index, columns=principalDF.index))"
      ],
      "execution_count": 36,
      "outputs": [
        {
          "output_type": "stream",
          "text": [
            "          0         1         2    ...       175       176       177\n",
            "0    0.000000  2.093633  0.900010  ...  6.137650  5.767329  6.658761\n",
            "1    2.093633  0.000000  1.398713  ...  5.784495  5.296078  6.243515\n",
            "2    0.900010  1.398713  0.000000  ...  5.475005  5.064591  5.983408\n",
            "3    1.384777  3.455679  2.124804  ...  6.434907  6.161206  6.965835\n",
            "4    2.378064  1.699730  1.516437  ...  4.143459  3.683763  4.625500\n",
            "..        ...       ...       ...  ...       ...       ...       ...\n",
            "173  6.731783  6.134913  6.005367  ...  0.881143  0.986842  0.575820\n",
            "174  5.927018  5.245996  5.169936  ...  1.006534  0.581314  1.179714\n",
            "175  6.137650  5.784495  5.475005  ...  0.000000  0.547228  0.530979\n",
            "176  5.767329  5.296078  5.064591  ...  0.547228  0.000000  0.947438\n",
            "177  6.658761  6.243515  5.983408  ...  0.530979  0.947438  0.000000\n",
            "\n",
            "[178 rows x 178 columns]\n"
          ],
          "name": "stdout"
        }
      ]
    },
    {
      "cell_type": "code",
      "metadata": {
        "id": "V0LdUnwym21z"
      },
      "source": [
        "data = customer_data.iloc[:, 1:3].values"
      ],
      "execution_count": 30,
      "outputs": []
    },
    {
      "cell_type": "markdown",
      "metadata": {
        "id": "jzRrmoNXVAJm"
      },
      "source": [
        "Em seguida, precisamos saber em quais clusters queremos que nossos dados sejam divididos. Vamos usar novamente a scipybiblioteca para criar os dendrogramas para nosso conjunto de dados. Execute o seguinte script para fazer isso:"
      ]
    },
    {
      "cell_type": "code",
      "metadata": {
        "id": "imWa9nay-r4R",
        "colab": {
          "base_uri": "https://localhost:8080/",
          "height": 474
        },
        "outputId": "929cb4bb-8058-44df-e0fd-55d8f787e29d"
      },
      "source": [
        "import scipy.cluster.hierarchy as sch\n",
        "plt.figure(figsize=(10, 7))\n",
        "plt.style.use('fivethirtyeight')\n",
        "plt.title('Dendrograma com métrica euclidiana')\n",
        "plt.ylabel('Distância entre pontos')\n",
        "dend = sch.dendrogram(sch.linkage(principalDF, method='ward', metric='euclidean'))"
      ],
      "execution_count": 44,
      "outputs": [
        {
          "output_type": "display_data",
          "data": {
            "image/png": "[encoded data removed]",
            "text/plain": [
              "<Figure size 720x504 with 1 Axes>"
            ]
          },
          "metadata": {
            "tags": []
          }
        }
      ]
    },
    {
      "cell_type": "markdown",
      "metadata": {
        "id": "SoBDUs7OWWb9"
      },
      "source": [
        "A partir do dendograma acima, podemos perceber que o número de clusters são 3."
      ]
    },
    {
      "cell_type": "code",
      "metadata": {
        "id": "3vhDfnyO-fFQ",
        "colab": {
          "base_uri": "https://localhost:8080/"
        },
        "outputId": "5fb1ba5b-b873-4bae-ab9e-08e4901afbee"
      },
      "source": [
        "from sklearn.cluster import AgglomerativeClustering\n",
        "\n",
        "cluster = AgglomerativeClustering(n_clusters=3, affinity='euclidean', linkage='ward')\n",
        "cluster.fit_predict(data)\n"
      ],
      "execution_count": 42,
      "outputs": [
        {
          "output_type": "execute_result",
          "data": {
            "text/plain": [
              "array([0, 0, 2, 0, 2, 0, 0, 0, 0, 0, 0, 0, 0, 0, 0, 0, 0, 0, 0, 2, 0, 1,\n",
              "       0, 0, 0, 0, 0, 0, 0, 0, 0, 0, 0, 0, 0, 0, 0, 0, 0, 1, 0, 1, 0, 1,\n",
              "       0, 1, 2, 0, 0, 0, 0, 0, 0, 0, 0, 0, 0, 0, 0, 0, 0, 0, 0, 0, 0, 0,\n",
              "       0, 0, 0, 0, 0, 0, 0, 0, 0, 0, 0, 2, 0, 1, 0, 0, 0, 1, 0, 0, 0, 0,\n",
              "       0, 0, 0, 0, 0, 2, 0, 0, 0, 0, 0, 2, 0, 0, 2, 0, 0, 2, 0, 0, 0, 0,\n",
              "       2, 2, 2, 0, 0, 0, 0, 0, 2, 2, 2, 0, 1, 1, 1, 0, 0, 0, 0, 1, 0, 2,\n",
              "       2, 2, 0, 2, 1, 1, 2, 2, 2, 2, 2, 1, 1, 2, 1, 1, 2, 1, 2, 2, 0, 2,\n",
              "       0, 1, 1, 2, 0, 0, 1, 2, 2, 2, 2, 1, 1, 2, 2, 1, 2, 2, 2, 1, 1, 1,\n",
              "       2, 1])"
            ]
          },
          "metadata": {
            "tags": []
          },
          "execution_count": 42
        }
      ]
    },
    {
      "cell_type": "markdown",
      "metadata": {
        "id": "bgGFs3gzW64K"
      },
      "source": [
        "Como uma etapa final, vamos representar graficamente os clusters para ver como nossos dados foram realmente agrupados:"
      ]
    },
    {
      "cell_type": "code",
      "metadata": {
        "id": "ERtola_b-nSv",
        "colab": {
          "base_uri": "https://localhost:8080/",
          "height": 473
        },
        "outputId": "a260530f-a882-46c4-c6ea-aa4b24b316b3"
      },
      "source": [
        "plt.figure(figsize=(10, 7))\n",
        "plt.scatter(data[:,0], data[:,1], c=cluster.labels_, cmap='rainbow')\n"
      ],
      "execution_count": 43,
      "outputs": [
        {
          "output_type": "execute_result",
          "data": {
            "text/plain": [
              "<matplotlib.collections.PathCollection at 0x7f96c351b518>"
            ]
          },
          "metadata": {
            "tags": []
          },
          "execution_count": 43
        },
        {
          "output_type": "display_data",
          "data": {
            "image/png": "[encoded data removed]",
            "text/plain": [
              "<Figure size 720x504 with 1 Axes>"
            ]
          },
          "metadata": {
            "tags": []
          }
        }
      ]
    },
    {
      "cell_type": "markdown",
      "metadata": {
        "id": "JTH7vMYDooo6"
      },
      "source": [
        "Você pode ver os pontos de dados na forma de cinco clusters."
      ]
    },
    {
      "cell_type": "markdown",
      "metadata": {
        "id": "zKSC2Eg4qF_E"
      },
      "source": [
        "# Conclusão\n",
        "\n",
        "A partir do dataset disponibilizado pelo docente, aplicou-se dois diferentes algoritmos.\n",
        "\n",
        "Ao decorrer da solução da questão percebeu-se a necessidade de redução de dimensionalidade. Para que fosse possivel definir o número de clusters que seria necessário para aplicar no algoritmo K-means.\n",
        "E, para a solução através do modelo hierarquico que mostrou que a nossa escolha de numero de clusters estava correta."
      ]
    }
  ]
}